{
 "cells": [
  {
   "cell_type": "code",
   "execution_count": 1,
   "id": "86ae1e7b-966c-4e8a-9a8a-25c96b941515",
   "metadata": {},
   "outputs": [],
   "source": [
    "from inher_calc import Advanced_Calculator as ac"
   ]
  },
  {
   "cell_type": "code",
   "execution_count": 2,
   "id": "4dbc3449-e9fd-4084-884e-efb9aca60ffd",
   "metadata": {},
   "outputs": [
    {
     "name": "stdout",
     "output_type": "stream",
     "text": [
      "Super Class\n",
      "Subclass==================\n",
      "10\n",
      "Super Class\n",
      "Subclass==================\n"
     ]
    }
   ],
   "source": [
    "g=ac()\n",
    "g.get_global_data()\n",
    "g2=ac()"
   ]
  },
  {
   "cell_type": "code",
   "execution_count": 3,
   "id": "ef7e785e-7422-4818-ba39-b89a38c630b8",
   "metadata": {},
   "outputs": [
    {
     "name": "stdout",
     "output_type": "stream",
     "text": [
      "General Function\n"
     ]
    }
   ],
   "source": [
    "ac.general()"
   ]
  },
  {
   "cell_type": "code",
   "execution_count": 2,
   "id": "879711cf-a577-4272-81b8-86652d6442ea",
   "metadata": {},
   "outputs": [
    {
     "name": "stdout",
     "output_type": "stream",
     "text": [
      "10\n",
      "555555555555555555555\n"
     ]
    }
   ],
   "source": [
    "ac.change(555555555555555555555)"
   ]
  },
  {
   "cell_type": "code",
   "execution_count": 5,
   "id": "9cbe61b6-55fb-43e4-b65f-91c67dc85708",
   "metadata": {},
   "outputs": [
    {
     "data": {
      "text/plain": [
       "-1"
      ]
     },
     "execution_count": 5,
     "metadata": {},
     "output_type": "execute_result"
    }
   ],
   "source": [
    "g.subtraction(4,5)"
   ]
  },
  {
   "cell_type": "code",
   "execution_count": 2,
   "id": "85c1d893-9b32-4676-9da2-041bfdc42f0d",
   "metadata": {},
   "outputs": [
    {
     "name": "stdout",
     "output_type": "stream",
     "text": [
      "10\n"
     ]
    }
   ],
   "source": [
    "ac.get_v1()"
   ]
  },
  {
   "cell_type": "code",
   "execution_count": 11,
   "id": "939b1ede-e518-4951-a67c-95ea7a1ff554",
   "metadata": {},
   "outputs": [
    {
     "name": "stdout",
     "output_type": "stream",
     "text": [
      "10\n"
     ]
    }
   ],
   "source": [
    "g.get_global_data()"
   ]
  },
  {
   "cell_type": "code",
   "execution_count": 10,
   "id": "8923a711-3ac6-4d9d-bf63-57e8d35de8fa",
   "metadata": {},
   "outputs": [
    {
     "name": "stdout",
     "output_type": "stream",
     "text": [
      "20\n"
     ]
    }
   ],
   "source": [
    "g2.get_global_data()"
   ]
  },
  {
   "cell_type": "code",
   "execution_count": 8,
   "id": "4afc7709-be96-4b50-8b65-e71389b4082f",
   "metadata": {},
   "outputs": [],
   "source": [
    "ac.change(20)"
   ]
  },
  {
   "cell_type": "code",
   "execution_count": null,
   "id": "1678dfa0-6649-4531-9b4c-a6c608d7a82b",
   "metadata": {},
   "outputs": [],
   "source": []
  }
 ],
 "metadata": {
  "kernelspec": {
   "display_name": "Python 3 (ipykernel)",
   "language": "python",
   "name": "python3"
  },
  "language_info": {
   "codemirror_mode": {
    "name": "ipython",
    "version": 3
   },
   "file_extension": ".py",
   "mimetype": "text/x-python",
   "name": "python",
   "nbconvert_exporter": "python",
   "pygments_lexer": "ipython3",
   "version": "3.13.2"
  }
 },
 "nbformat": 4,
 "nbformat_minor": 5
}
