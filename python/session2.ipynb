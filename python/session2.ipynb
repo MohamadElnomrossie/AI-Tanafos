{
 "cells": [
  {
   "cell_type": "markdown",
   "id": "620d9193-152e-4afe-ba96-0fe5adc97f52",
   "metadata": {
    "jp-MarkdownHeadingCollapsed": true
   },
   "source": [
    " # <center>List</center>\n",
    "<ol>\n",
    "    <li>List can be represented by [ ]. ex. [1,2,3,4,'hello']</li>\n",
    "    <li>Ordered (elements in the list are assigend a certain index or position) </li>\n",
    "    <li>Lists are mutable</li>\n",
    "    <li>Lists allow duplicate data</li>\n",
    "    <li>Can be nested</li>\n",
    "    <li>Convert any datatype to list using list()</li>\n",
    "</ol>"
   ]
  },
  {
   "cell_type": "markdown",
   "id": "b1576d18-5c8a-41ca-87ee-b58ae6a03181",
   "metadata": {},
   "source": [
    "## List can be represented by [ ]. ex. [1,2,3,4,'hello']"
   ]
  },
  {
   "cell_type": "code",
   "execution_count": 76,
   "id": "7c089f71-2b58-4540-bc8d-5f843a96e08d",
   "metadata": {},
   "outputs": [
    {
     "name": "stdout",
     "output_type": "stream",
     "text": [
      "<class 'list'>\n"
     ]
    }
   ],
   "source": [
    "l1=[1,2,3,4,'hello',True,[1,2,3,4]]\n",
    "print(type(l1))"
   ]
  },
  {
   "cell_type": "code",
   "execution_count": null,
   "id": "04caac44-0295-4ee4-98e0-1642e6a5d17d",
   "metadata": {},
   "outputs": [],
   "source": []
  },
  {
   "cell_type": "markdown",
   "id": "eb960770-a397-4393-bfc3-654e89905732",
   "metadata": {},
   "source": [
    "## Ordered (elements in the list are assigend to a certain index or position)"
   ]
  },
  {
   "cell_type": "code",
   "execution_count": 9,
   "id": "049c841c-a4cd-4b04-85ed-c500b51b13d4",
   "metadata": {},
   "outputs": [
    {
     "name": "stdout",
     "output_type": "stream",
     "text": [
      "hello\n",
      "e\n"
     ]
    }
   ],
   "source": [
    "print(l1[4])\n",
    "print(l1[4][1])"
   ]
  },
  {
   "cell_type": "markdown",
   "id": "6b7e2904-92a0-458e-b3ab-dbb45319d776",
   "metadata": {},
   "source": [
    "## Lists are mutable"
   ]
  },
  {
   "cell_type": "code",
   "execution_count": 20,
   "id": "549a63c5-8d97-4130-8ec1-7f9fcfda9635",
   "metadata": {},
   "outputs": [
    {
     "name": "stdout",
     "output_type": "stream",
     "text": [
      "[1, 2, 3, 4, 'hello', True, [1, 2, 3, 4], 'world']\n"
     ]
    }
   ],
   "source": [
    "l1.append('world') #adding items\n",
    "print(l1)"
   ]
  },
  {
   "cell_type": "code",
   "execution_count": 21,
   "id": "5ab04895-c881-4d51-b3dc-90c6498a46f6",
   "metadata": {},
   "outputs": [
    {
     "name": "stdout",
     "output_type": "stream",
     "text": [
      "[1, 2, 3, 4, 'hello', True, [1, 2, 3, 4], 'world', 4, 5, 6, 7]\n"
     ]
    }
   ],
   "source": [
    "l2=[4,5,6,7]\n",
    "l1.extend(l2)\n",
    "print(l1)"
   ]
  },
  {
   "cell_type": "code",
   "execution_count": 22,
   "id": "d1421849-0812-478e-958f-0dba472b8e53",
   "metadata": {},
   "outputs": [
    {
     "name": "stdout",
     "output_type": "stream",
     "text": [
      "[1, 2, 3, 4, 10, 'hello', True, [1, 2, 3, 4], 'world', 4, 5, 6, 7]\n"
     ]
    }
   ],
   "source": [
    "l1.insert(4,10)\n",
    "print(l1)"
   ]
  },
  {
   "cell_type": "code",
   "execution_count": 25,
   "id": "4fafddea-7461-4e4e-aad1-8c03719228c0",
   "metadata": {},
   "outputs": [
    {
     "name": "stdout",
     "output_type": "stream",
     "text": [
      "[1, 2, 3, 4, 10, 'hello', 12, True, [1, 2, 3, 4], 'world', 4, 5, 6, 7]\n"
     ]
    }
   ],
   "source": [
    "l1.insert(l1.index('hello')+1,12)\n",
    "print(l1)"
   ]
  },
  {
   "cell_type": "markdown",
   "id": "d1a5f9b8-e1b2-48e2-8da3-bf138c13ef43",
   "metadata": {},
   "source": [
    "## Lists allow duplicate data"
   ]
  },
  {
   "cell_type": "code",
   "execution_count": 31,
   "id": "d51205d4-e678-43ff-ba44-32fc9a756d68",
   "metadata": {},
   "outputs": [
    {
     "data": {
      "text/plain": [
       "2"
      ]
     },
     "execution_count": 31,
     "metadata": {},
     "output_type": "execute_result"
    }
   ],
   "source": [
    "l1.index(4) # Return first index of value.\n",
    "l1.count(4) # Return number of occurrences of value."
   ]
  },
  {
   "cell_type": "markdown",
   "id": "36ee6c24-b6bc-400a-956d-fe362de6c821",
   "metadata": {},
   "source": [
    "## Can be nested"
   ]
  },
  {
   "cell_type": "code",
   "execution_count": 30,
   "id": "448aaa67-d47e-4afb-a2b7-13cc95981077",
   "metadata": {},
   "outputs": [
    {
     "data": {
      "text/plain": [
       "\u001b[1;31mSignature:\u001b[0m \u001b[0ml1\u001b[0m\u001b[1;33m.\u001b[0m\u001b[0mcount\u001b[0m\u001b[1;33m(\u001b[0m\u001b[0mvalue\u001b[0m\u001b[1;33m,\u001b[0m \u001b[1;33m/\u001b[0m\u001b[1;33m)\u001b[0m\u001b[1;33m\u001b[0m\u001b[1;33m\u001b[0m\u001b[0m\n",
       "\u001b[1;31mDocstring:\u001b[0m Return number of occurrences of value.\n",
       "\u001b[1;31mType:\u001b[0m      builtin_function_or_method"
      ]
     },
     "metadata": {},
     "output_type": "display_data"
    }
   ],
   "source": [
    "l1.count??"
   ]
  },
  {
   "cell_type": "markdown",
   "id": "8425f8b8-6bb4-495e-9ddd-6f66a04c2808",
   "metadata": {},
   "source": [
    "## Convert any datatype to list using list()"
   ]
  },
  {
   "cell_type": "code",
   "execution_count": 39,
   "id": "cbbbb7be-c918-4e0b-a8a1-ef6492733eed",
   "metadata": {},
   "outputs": [
    {
     "name": "stdout",
     "output_type": "stream",
     "text": [
      "python\n",
      "['p', 'y', 't', 'h', 'o', 'n']\n",
      "['python']\n"
     ]
    }
   ],
   "source": [
    "a='python'\n",
    "print(a)\n",
    "print(list(a))\n",
    "b=[a]\n",
    "print(b)"
   ]
  },
  {
   "cell_type": "code",
   "execution_count": 45,
   "id": "a414355e-81cc-4a5c-a3ac-48fa9d7baec9",
   "metadata": {},
   "outputs": [
    {
     "name": "stdout",
     "output_type": "stream",
     "text": [
      "['hello']\n"
     ]
    }
   ],
   "source": [
    "l3=[l1[5]]\n",
    "print(l3)"
   ]
  },
  {
   "cell_type": "code",
   "execution_count": 40,
   "id": "00d8578e-0cb5-4ff1-862f-4a85a21fcb88",
   "metadata": {},
   "outputs": [
    {
     "data": {
      "text/plain": [
       "['it', 'is', 'raining', 'hard']"
      ]
     },
     "execution_count": 40,
     "metadata": {},
     "output_type": "execute_result"
    }
   ],
   "source": [
    "t='it is raining hard'\n",
    "t.split()"
   ]
  },
  {
   "cell_type": "markdown",
   "id": "65678efd-eb6d-456f-b1d1-f94c2b83a4ff",
   "metadata": {},
   "source": [
    "<img src='imgs/4.png'/>"
   ]
  },
  {
   "cell_type": "code",
   "execution_count": null,
   "id": "684d6a25-3ddf-4fc9-95cb-d284ee748784",
   "metadata": {},
   "outputs": [],
   "source": []
  },
  {
   "cell_type": "markdown",
   "id": "982da0c9-4f73-488d-8f79-24062550204e",
   "metadata": {},
   "source": [
    "<img src='imgs/3.png'/>"
   ]
  },
  {
   "cell_type": "code",
   "execution_count": 48,
   "id": "d3ff08b7-c429-44b4-9ae7-1e1f7104b3d0",
   "metadata": {},
   "outputs": [
    {
     "name": "stdout",
     "output_type": "stream",
     "text": [
      "[1, 2, 3, 10, 'hello', 12, True, [1, 2, 3, 4], 'world', 4, 5, 6, 7]\n"
     ]
    }
   ],
   "source": [
    "l1.remove(4) #Remove first occurrence of value.\n",
    "print(l1)"
   ]
  },
  {
   "cell_type": "code",
   "execution_count": 73,
   "id": "b7c044f5-1eba-4323-bef0-b34d7b88a693",
   "metadata": {},
   "outputs": [
    {
     "name": "stdout",
     "output_type": "stream",
     "text": [
      "hello\n"
     ]
    }
   ],
   "source": [
    "word=l1.pop(l1.index('hello'))\n",
    "print(word)"
   ]
  },
  {
   "cell_type": "code",
   "execution_count": 61,
   "id": "475954cf-3179-4eee-927a-3427104f4363",
   "metadata": {},
   "outputs": [],
   "source": [
    "del l1[2]"
   ]
  },
  {
   "cell_type": "code",
   "execution_count": 63,
   "id": "02e85d35-d903-4f18-a58d-52d514876989",
   "metadata": {},
   "outputs": [
    {
     "name": "stdout",
     "output_type": "stream",
     "text": [
      "[1, 2, 10, 'hello', 12, True, [1, 2, 3, 4], 'world', 4, 5, 6, 7]\n"
     ]
    }
   ],
   "source": [
    "len(l1) # to get the number of items in a list\n",
    "print(l1)"
   ]
  },
  {
   "cell_type": "code",
   "execution_count": 59,
   "id": "abde8140-e2b0-46e7-b0d5-12283998758d",
   "metadata": {},
   "outputs": [
    {
     "data": {
      "text/plain": [
       "4"
      ]
     },
     "execution_count": 59,
     "metadata": {},
     "output_type": "execute_result"
    }
   ],
   "source": [
    "len(t.split())"
   ]
  },
  {
   "cell_type": "code",
   "execution_count": 64,
   "id": "7f3d79dd-f0fe-4a37-96e6-244b7a558907",
   "metadata": {},
   "outputs": [
    {
     "name": "stdout",
     "output_type": "stream",
     "text": [
      "[1, 2, 10, 'hello', 12, True, [1, 2, 3, 4, 'trial'], 'world', 4, 5, 6, 7]\n"
     ]
    }
   ],
   "source": [
    "l1[6].append('trial') # adding items to a nested list\n",
    "print(l1)"
   ]
  },
  {
   "cell_type": "markdown",
   "id": "54ffd07b-bd26-4864-b989-f7ff10ab0925",
   "metadata": {},
   "source": [
    "### index() returns the index of the first occurence of a specific value"
   ]
  },
  {
   "cell_type": "code",
   "execution_count": null,
   "id": "e248a686-3ec4-4bb0-9ab0-f3cb55524d94",
   "metadata": {},
   "outputs": [],
   "source": []
  },
  {
   "cell_type": "markdown",
   "id": "4132d15e-6f77-4e2b-a23c-70b15eeed681",
   "metadata": {},
   "source": [
    "### count()  returns the number of occurencess of a specific value"
   ]
  },
  {
   "cell_type": "code",
   "execution_count": null,
   "id": "87c3c4c7-0d0f-4067-aed4-054c2de45998",
   "metadata": {},
   "outputs": [],
   "source": []
  },
  {
   "cell_type": "markdown",
   "id": "8ed4cc3b-29cd-49de-9c1d-b00bbf1e0c47",
   "metadata": {},
   "source": [
    "### clear(): removes all elements from a list"
   ]
  },
  {
   "cell_type": "code",
   "execution_count": 74,
   "id": "30ba79e0-f28a-4b7f-8fb0-6b19412f7a45",
   "metadata": {},
   "outputs": [
    {
     "name": "stdout",
     "output_type": "stream",
     "text": [
      "[]\n"
     ]
    }
   ],
   "source": [
    "l1.clear()\n",
    "print(l1)"
   ]
  },
  {
   "cell_type": "markdown",
   "id": "1096a6ba-6dd3-4caf-914b-cd129b87b75f",
   "metadata": {},
   "source": [
    "### del : remove the whole list from the memory"
   ]
  },
  {
   "cell_type": "code",
   "execution_count": 75,
   "id": "920b6f06-94a3-4629-a29f-c514b665dacf",
   "metadata": {},
   "outputs": [
    {
     "ename": "NameError",
     "evalue": "name 'l1' is not defined",
     "output_type": "error",
     "traceback": [
      "\u001b[1;31m---------------------------------------------------------------------------\u001b[0m",
      "\u001b[1;31mNameError\u001b[0m                                 Traceback (most recent call last)",
      "Cell \u001b[1;32mIn[75], line 2\u001b[0m\n\u001b[0;32m      1\u001b[0m \u001b[38;5;28;01mdel\u001b[39;00m l1\n\u001b[1;32m----> 2\u001b[0m \u001b[38;5;28mprint\u001b[39m(\u001b[43ml1\u001b[49m)\n",
      "\u001b[1;31mNameError\u001b[0m: name 'l1' is not defined"
     ]
    }
   ],
   "source": [
    "del l1\n",
    "print(l1)"
   ]
  },
  {
   "attachments": {},
   "cell_type": "markdown",
   "id": "f88f573b-8ed0-47ba-8fb0-95a6134f3dfd",
   "metadata": {},
   "source": [
    "# <center>Tuple</center>\n",
    "<ol>\n",
    "    <li>Tuples are represented by ( )</li>\n",
    "    <li>Ordered</li>\n",
    "    <li>Unchangeable Data</li>\n",
    "    <li>Allows Duplicate Data</li>\n",
    "    <li>Convert Any datatype to tuple using tuple() function</li>\n",
    "    <li>Can be nested</li>\n",
    "</ol>"
   ]
  },
  {
   "cell_type": "markdown",
   "id": "f9d51ae9-0e0f-44a5-8ef1-bc7a0a58198f",
   "metadata": {},
   "source": [
    "## Tuples are represrned by ( )"
   ]
  },
  {
   "cell_type": "code",
   "execution_count": 83,
   "id": "d320856b-5182-4b0e-8394-0c6af70ff726",
   "metadata": {},
   "outputs": [
    {
     "name": "stdout",
     "output_type": "stream",
     "text": [
      "('one', 'two', 'three', 'four')\n",
      "<class 'tuple'>\n"
     ]
    }
   ],
   "source": [
    "t1=('one','two','three','four')\n",
    "print(t1)\n",
    "print(type(t1))"
   ]
  },
  {
   "cell_type": "markdown",
   "id": "c9bb686c-9ba4-493e-b510-38c1a5e61403",
   "metadata": {},
   "source": [
    "## Ordered"
   ]
  },
  {
   "cell_type": "code",
   "execution_count": 84,
   "id": "68d81b25-27fc-4086-a7aa-781dd8e4186e",
   "metadata": {},
   "outputs": [
    {
     "data": {
      "text/plain": [
       "'two'"
      ]
     },
     "execution_count": 84,
     "metadata": {},
     "output_type": "execute_result"
    }
   ],
   "source": [
    "# Items can be accessed with index (can be sliced)\n",
    "t1[1]"
   ]
  },
  {
   "cell_type": "markdown",
   "id": "a3cfd484-dae8-4d43-a8e7-27a25bdfbd3b",
   "metadata": {},
   "source": [
    "## Immutable\n",
    "Cannot be changed after creation"
   ]
  },
  {
   "cell_type": "code",
   "execution_count": null,
   "id": "4ace72b0-4122-4c6d-8743-410023ec3c8b",
   "metadata": {},
   "outputs": [],
   "source": [
    "\n"
   ]
  },
  {
   "cell_type": "code",
   "execution_count": 94,
   "id": "8b15c421-b7a9-410f-8050-640415fde280",
   "metadata": {},
   "outputs": [],
   "source": [
    "t3=('one',('two','three'),[1,2,3])"
   ]
  },
  {
   "cell_type": "code",
   "execution_count": 96,
   "id": "36024837-7c54-41af-82b2-811fef7323fa",
   "metadata": {},
   "outputs": [],
   "source": [
    "t3[2].append('trial')"
   ]
  },
  {
   "cell_type": "code",
   "execution_count": 97,
   "id": "d8822e33-5dc0-4c7e-a350-aa0326382ecf",
   "metadata": {},
   "outputs": [
    {
     "data": {
      "text/plain": [
       "('one', ('two', 'three'), [1, 2, 3, 'trial'])"
      ]
     },
     "execution_count": 97,
     "metadata": {},
     "output_type": "execute_result"
    }
   ],
   "source": [
    "t3"
   ]
  },
  {
   "cell_type": "markdown",
   "id": "ce905588-2bb2-44d7-bfeb-d418f7ad1538",
   "metadata": {},
   "source": [
    "## Allows Duplicate Data"
   ]
  },
  {
   "cell_type": "code",
   "execution_count": 93,
   "id": "65839e2c-89d5-42af-b672-5116ba58c8ee",
   "metadata": {},
   "outputs": [],
   "source": [
    "t3=('one',('two','three','two'))"
   ]
  },
  {
   "cell_type": "markdown",
   "id": "a89eb6fc-fa36-427d-9025-62e1e52b28e2",
   "metadata": {},
   "source": [
    "## Convert Any datatype to tuple using tuple()"
   ]
  },
  {
   "cell_type": "code",
   "execution_count": null,
   "id": "b05ee8fe-caff-46d9-908d-762186097e5c",
   "metadata": {},
   "outputs": [],
   "source": []
  },
  {
   "cell_type": "markdown",
   "id": "29cddf71-8c5a-4292-a796-5a7720127b7b",
   "metadata": {},
   "source": [
    "<img src='imgs/5.png'/>"
   ]
  },
  {
   "cell_type": "code",
   "execution_count": null,
   "id": "3ed62fd1-7e52-4a64-afe0-2f4d96b88a04",
   "metadata": {},
   "outputs": [],
   "source": []
  },
  {
   "cell_type": "code",
   "execution_count": null,
   "id": "1d4b804e-22a8-4b2e-811e-f1b57a49a9d4",
   "metadata": {},
   "outputs": [],
   "source": []
  },
  {
   "cell_type": "code",
   "execution_count": null,
   "id": "6988bb0f-ae6a-4cd3-9c97-375bfcfdcb7d",
   "metadata": {},
   "outputs": [],
   "source": []
  },
  {
   "cell_type": "markdown",
   "id": "af4f3675-2ba7-4fea-84ee-67b9253332d7",
   "metadata": {},
   "source": [
    "<img src='imgs/6.png'/>"
   ]
  },
  {
   "cell_type": "code",
   "execution_count": null,
   "id": "575642d2-0e26-41c6-b1d3-a0f2aedc30da",
   "metadata": {},
   "outputs": [],
   "source": []
  },
  {
   "cell_type": "markdown",
   "id": "0633579b-9ce4-48a1-8d1b-14993f07ea25",
   "metadata": {},
   "source": [
    "# <center>Set </center>\n",
    "<ol>\n",
    "    <li>Can be represented by { }</li>\n",
    "     <li>Unordered</li>\n",
    "     <li>Immutable</li>\n",
    "     <li>Does not allow duplicate data</li>\n",
    "     <li>cannot be nested</li>\n",
    "     <li>Convert any dataype to set using set( )</li>\n",
    "</ol>"
   ]
  },
  {
   "cell_type": "code",
   "execution_count": 99,
   "id": "d40f74ab-e035-46c6-9080-43566b446ffc",
   "metadata": {},
   "outputs": [],
   "source": [
    "s1={'one','two','three','two'}"
   ]
  },
  {
   "cell_type": "code",
   "execution_count": 103,
   "id": "05a6e873-73d7-4cb8-a027-34441b0f72a5",
   "metadata": {},
   "outputs": [
    {
     "ename": "TypeError",
     "evalue": "'set' object is not subscriptable",
     "output_type": "error",
     "traceback": [
      "\u001b[1;31m---------------------------------------------------------------------------\u001b[0m",
      "\u001b[1;31mTypeError\u001b[0m                                 Traceback (most recent call last)",
      "Cell \u001b[1;32mIn[103], line 1\u001b[0m\n\u001b[1;32m----> 1\u001b[0m \u001b[43ms1\u001b[49m\u001b[43m[\u001b[49m\u001b[38;5;241;43m2\u001b[39;49m\u001b[43m]\u001b[49m \u001b[38;5;66;03m# we cannot access elements by index|\u001b[39;00m\n",
      "\u001b[1;31mTypeError\u001b[0m: 'set' object is not subscriptable"
     ]
    }
   ],
   "source": [
    "s1[2] # we cannot access elements by index|"
   ]
  },
  {
   "cell_type": "code",
   "execution_count": 105,
   "id": "c92193a3-7ece-4f69-a2aa-369bff5a4f97",
   "metadata": {},
   "outputs": [],
   "source": [
    "s2={'two','five','six'}"
   ]
  },
  {
   "cell_type": "code",
   "execution_count": 106,
   "id": "22c0aea0-21e0-4320-9700-a4d5586eaff7",
   "metadata": {},
   "outputs": [
    {
     "name": "stdout",
     "output_type": "stream",
     "text": [
      "{'three', 'two', 'one'} {'five', 'six', 'two'}\n"
     ]
    }
   ],
   "source": [
    "print(s1,s2)"
   ]
  },
  {
   "cell_type": "code",
   "execution_count": 107,
   "id": "d9244e09-8bd9-4123-929d-93a1a76c57c3",
   "metadata": {},
   "outputs": [
    {
     "data": {
      "text/plain": [
       "{'two'}"
      ]
     },
     "execution_count": 107,
     "metadata": {},
     "output_type": "execute_result"
    }
   ],
   "source": [
    "s1.intersection(s2)"
   ]
  },
  {
   "cell_type": "code",
   "execution_count": 108,
   "id": "fcfe9c74-10ff-4e10-a73d-67acfb7f7771",
   "metadata": {},
   "outputs": [
    {
     "data": {
      "text/plain": [
       "{'five', 'six'}"
      ]
     },
     "execution_count": 108,
     "metadata": {},
     "output_type": "execute_result"
    }
   ],
   "source": [
    "s2.difference(s1)"
   ]
  },
  {
   "cell_type": "code",
   "execution_count": 112,
   "id": "ca811d64-2b21-4415-b729-f3489d3de5e6",
   "metadata": {},
   "outputs": [
    {
     "ename": "TypeError",
     "evalue": "unhashable type: 'set'",
     "output_type": "error",
     "traceback": [
      "\u001b[1;31m---------------------------------------------------------------------------\u001b[0m",
      "\u001b[1;31mTypeError\u001b[0m                                 Traceback (most recent call last)",
      "Cell \u001b[1;32mIn[112], line 1\u001b[0m\n\u001b[1;32m----> 1\u001b[0m \u001b[43ms1\u001b[49m\u001b[38;5;241;43m.\u001b[39;49m\u001b[43madd\u001b[49m\u001b[43m(\u001b[49m\u001b[43ms2\u001b[49m\u001b[43m)\u001b[49m\n",
      "\u001b[1;31mTypeError\u001b[0m: unhashable type: 'set'"
     ]
    }
   ],
   "source": [
    "s1.add(s2)\n"
   ]
  },
  {
   "cell_type": "code",
   "execution_count": 113,
   "id": "ce1e292e-60bf-4d77-8a20-259c4e59aa00",
   "metadata": {},
   "outputs": [
    {
     "ename": "TypeError",
     "evalue": "unhashable type: 'list'",
     "output_type": "error",
     "traceback": [
      "\u001b[1;31m---------------------------------------------------------------------------\u001b[0m",
      "\u001b[1;31mTypeError\u001b[0m                                 Traceback (most recent call last)",
      "Cell \u001b[1;32mIn[113], line 1\u001b[0m\n\u001b[1;32m----> 1\u001b[0m \u001b[43ms1\u001b[49m\u001b[38;5;241;43m.\u001b[39;49m\u001b[43madd\u001b[49m\u001b[43m(\u001b[49m\u001b[43m[\u001b[49m\u001b[38;5;241;43m1\u001b[39;49m\u001b[43m,\u001b[49m\u001b[38;5;241;43m2\u001b[39;49m\u001b[43m,\u001b[49m\u001b[38;5;241;43m3\u001b[39;49m\u001b[43m]\u001b[49m\u001b[43m)\u001b[49m\n",
      "\u001b[1;31mTypeError\u001b[0m: unhashable type: 'list'"
     ]
    }
   ],
   "source": [
    "s1.add([1,2,3])"
   ]
  },
  {
   "cell_type": "code",
   "execution_count": 116,
   "id": "8083d578-c38f-4d6d-92aa-1524f303e361",
   "metadata": {},
   "outputs": [
    {
     "name": "stdout",
     "output_type": "stream",
     "text": [
      "{1, 2, 3, 4}\n"
     ]
    }
   ],
   "source": [
    "l1=[1,2,3,4]\n",
    "s4=set(l1)\n",
    "print(s4)"
   ]
  },
  {
   "cell_type": "markdown",
   "id": "caa6be15-60fb-4216-9c10-c52e8afd1d91",
   "metadata": {},
   "source": [
    "# <center>Dictionary</center>\n",
    "<ol>\n",
    "    <li>Can be represnted by {key:value}</li>\n",
    "     <li>ordered</li>\n",
    "     <li>mutable</li>\n",
    "     <li>Allows duplicate values, but not keys</li>\n",
    "</ol>"
   ]
  },
  {
   "cell_type": "code",
   "execution_count": 130,
   "id": "94ba3346-7adf-4f52-90db-fc7671fd8564",
   "metadata": {},
   "outputs": [
    {
     "name": "stdout",
     "output_type": "stream",
     "text": [
      "dict_keys(['a', 'b'])\n",
      "one\n",
      "dict_values(['one', 'two'])\n",
      "dict_items([('a', 'one'), ('b', 'two')])\n"
     ]
    }
   ],
   "source": [
    "d1={'a':'one','b':'two'}\n",
    "print(d1.keys())\n",
    "print(d1['a'])\n",
    "print(d1.values())\n",
    "print(d1.items())"
   ]
  },
  {
   "cell_type": "code",
   "execution_count": 134,
   "id": "42a4c411-a067-4e6d-9c53-f72af29c3dce",
   "metadata": {},
   "outputs": [],
   "source": [
    "d1['c']='three' # adding new items"
   ]
  },
  {
   "cell_type": "markdown",
   "id": "6924af0b-3022-4788-9f9a-cb3747a87502",
   "metadata": {},
   "source": [
    "### d1[key]=value"
   ]
  },
  {
   "cell_type": "code",
   "execution_count": 135,
   "id": "7df259b7-faa5-48fe-92b3-72a76b256a21",
   "metadata": {},
   "outputs": [],
   "source": [
    "d1[2]='five'"
   ]
  },
  {
   "cell_type": "code",
   "execution_count": 148,
   "id": "1bd9191e-777d-44c1-942e-312ef5ec92aa",
   "metadata": {},
   "outputs": [
    {
     "data": {
      "text/plain": [
       "'not found'"
      ]
     },
     "execution_count": 148,
     "metadata": {},
     "output_type": "execute_result"
    }
   ],
   "source": [
    "d1.setdefault('5','not found')\n",
    "# search for a certain key, it will return the value.\n",
    "# if the key is not there it will return a default value"
   ]
  },
  {
   "cell_type": "markdown",
   "id": "b6865bae-be9c-4926-9451-847a317c49cc",
   "metadata": {},
   "source": [
    "# <center> Arithmetic Operators</center>\n",
    "<img src='imgs/7.png'/>"
   ]
  },
  {
   "cell_type": "code",
   "execution_count": 7,
   "id": "392c1180-3474-4847-8a22-851294471373",
   "metadata": {},
   "outputs": [],
   "source": [
    "a = 50\n",
    "b= 33\n",
    "t1='happy'\n",
    "t2='day'"
   ]
  },
  {
   "cell_type": "code",
   "execution_count": 8,
   "id": "6b41edcc-8b75-415d-88df-2a5422618962",
   "metadata": {},
   "outputs": [
    {
     "name": "stdout",
     "output_type": "stream",
     "text": [
      "83\n",
      "happyday\n"
     ]
    }
   ],
   "source": [
    "# Addition\n",
    "print(a+b)\n",
    "print('happy'+ 'day')"
   ]
  },
  {
   "cell_type": "code",
   "execution_count": 14,
   "id": "b4b08e7a-bcda-4f71-b249-a7989149793d",
   "metadata": {},
   "outputs": [
    {
     "name": "stdout",
     "output_type": "stream",
     "text": [
      "1650\n",
      "happy**********\n"
     ]
    }
   ],
   "source": [
    "print(a*b)\n",
    "print(t1+'*'*10)"
   ]
  },
  {
   "cell_type": "code",
   "execution_count": 18,
   "id": "3adaed54-b0bd-411c-9670-51a3d414d9d0",
   "metadata": {},
   "outputs": [
    {
     "name": "stdout",
     "output_type": "stream",
     "text": [
      "1.5151515151515151\n",
      "1\n"
     ]
    }
   ],
   "source": [
    "print(a/b)\n",
    "print(int(a/b))"
   ]
  },
  {
   "cell_type": "code",
   "execution_count": 19,
   "id": "a915bb54-5d42-4e06-95f0-0f0232fe2483",
   "metadata": {},
   "outputs": [
    {
     "name": "stdout",
     "output_type": "stream",
     "text": [
      "1\n"
     ]
    }
   ],
   "source": [
    "print(a//b)"
   ]
  },
  {
   "cell_type": "code",
   "execution_count": 23,
   "id": "5d520315-7563-4a3d-9b72-9c8f70bcf6b7",
   "metadata": {},
   "outputs": [
    {
     "name": "stdout",
     "output_type": "stream",
     "text": [
      "17\n"
     ]
    }
   ],
   "source": [
    "# Modulus --> returns the remanant of division\n",
    "print(a%b)"
   ]
  },
  {
   "cell_type": "code",
   "execution_count": 24,
   "id": "fd4a608c-5c28-467e-b4c4-528909f33b2d",
   "metadata": {},
   "outputs": [
    {
     "name": "stdout",
     "output_type": "stream",
     "text": [
      "1.1258588331791666\n"
     ]
    }
   ],
   "source": [
    "print(a**(1/b))"
   ]
  },
  {
   "cell_type": "code",
   "execution_count": 25,
   "id": "64bfc564-13d7-4137-a41d-bdd5d233712b",
   "metadata": {},
   "outputs": [
    {
     "data": {
      "text/plain": [
       "3.0"
      ]
     },
     "execution_count": 25,
     "metadata": {},
     "output_type": "execute_result"
    }
   ],
   "source": [
    "9**(1/2)"
   ]
  },
  {
   "cell_type": "code",
   "execution_count": null,
   "id": "195e7224-1830-4cbd-8a4c-acf11ba6160c",
   "metadata": {},
   "outputs": [],
   "source": []
  },
  {
   "cell_type": "code",
   "execution_count": null,
   "id": "a13eb75f-3510-4f0a-9542-41bd7aec8c90",
   "metadata": {},
   "outputs": [],
   "source": []
  },
  {
   "cell_type": "markdown",
   "id": "7835ff52-7c80-4d14-924a-a0db5d207dda",
   "metadata": {},
   "source": [
    "<img src='imgs/8.png'/>"
   ]
  },
  {
   "cell_type": "code",
   "execution_count": 27,
   "id": "d527d71e-85fd-408f-9245-493b04a9dc0c",
   "metadata": {},
   "outputs": [],
   "source": [
    "# assignment\n",
    "a=10\n",
    "b=3"
   ]
  },
  {
   "cell_type": "code",
   "execution_count": 38,
   "id": "4f6c2232-dd7c-469f-b1dc-c2a84039c44b",
   "metadata": {},
   "outputs": [
    {
     "name": "stdout",
     "output_type": "stream",
     "text": [
      "False\n",
      "True\n",
      "False\n",
      "True\n",
      "False\n",
      "True\n",
      "False\n",
      "False\n"
     ]
    }
   ],
   "source": [
    "# comparison\n",
    "print(a<b)\n",
    "print(a>b)\n",
    "print(a<=b)\n",
    "print(a>=b)\n",
    "print(a==b)\n",
    "print(a!=b)\n",
    "print(a is b)\n",
    "print(t1==t2)"
   ]
  },
  {
   "cell_type": "code",
   "execution_count": null,
   "id": "c9c0e865-49bc-4870-a714-b968f4cb0031",
   "metadata": {},
   "outputs": [],
   "source": []
  },
  {
   "cell_type": "code",
   "execution_count": null,
   "id": "e4729ce1-e08e-4a8a-8d79-775f6b8ddc82",
   "metadata": {},
   "outputs": [],
   "source": []
  },
  {
   "cell_type": "code",
   "execution_count": null,
   "id": "a4926045-344f-47c1-9276-549f11d133bf",
   "metadata": {},
   "outputs": [],
   "source": []
  },
  {
   "cell_type": "code",
   "execution_count": null,
   "id": "279cdd8a-4ca9-4744-9b47-64180d30a576",
   "metadata": {},
   "outputs": [],
   "source": []
  },
  {
   "cell_type": "code",
   "execution_count": null,
   "id": "e98d241e-ee03-4de0-ba9c-6db538f42b83",
   "metadata": {},
   "outputs": [],
   "source": []
  },
  {
   "cell_type": "markdown",
   "id": "541ebc1b-1a43-4178-88d3-ce0beb357221",
   "metadata": {},
   "source": [
    "<img src='imgs/9.png'/>"
   ]
  },
  {
   "cell_type": "code",
   "execution_count": 55,
   "id": "f05c3ce8-d6ed-4a4f-a8a0-c757a80d75bb",
   "metadata": {},
   "outputs": [
    {
     "name": "stdout",
     "output_type": "stream",
     "text": [
      "False\n",
      "False\n",
      "False\n",
      "True\n",
      "10\n",
      "3\n",
      "0\n"
     ]
    }
   ],
   "source": [
    "a=10\n",
    "b=3\n",
    "print((a<b) & (a==b))\n",
    "print((a>b) and (a==b))\n",
    "# OR\n",
    "print((a<b) | (a==b))\n",
    "print((a>b) or (a==b))\n",
    "# =========================\n",
    "print(a)\n",
    "print(b)\n",
    "print(0 and a)"
   ]
  },
  {
   "cell_type": "markdown",
   "id": "097cecab-4d00-4b3a-914d-a0dea7a87149",
   "metadata": {},
   "source": [
    "<img src='imgs/10.png'/>"
   ]
  },
  {
   "cell_type": "code",
   "execution_count": 64,
   "id": "f9e127db-93f0-405d-99ed-7ae70022fbbd",
   "metadata": {},
   "outputs": [],
   "source": [
    "a=10\n",
    "b=3\n",
    "c=5"
   ]
  },
  {
   "cell_type": "code",
   "execution_count": 58,
   "id": "8602a2ff-f6e2-4a00-bca8-f705dd4eda46",
   "metadata": {},
   "outputs": [
    {
     "name": "stdout",
     "output_type": "stream",
     "text": [
      "13\n"
     ]
    }
   ],
   "source": [
    "c=a+b\n",
    "print(c)"
   ]
  },
  {
   "cell_type": "code",
   "execution_count": 59,
   "id": "04b9728b-98cd-4dee-9008-e79212a57ca5",
   "metadata": {},
   "outputs": [],
   "source": [
    "c=c+3"
   ]
  },
  {
   "cell_type": "code",
   "execution_count": 65,
   "id": "db858eec-2eed-4588-a9a9-334df16b1c41",
   "metadata": {},
   "outputs": [],
   "source": [
    "c+=3"
   ]
  },
  {
   "cell_type": "code",
   "execution_count": 66,
   "id": "b17d44cb-a26b-4dab-a2db-04e3b1c6cb94",
   "metadata": {},
   "outputs": [
    {
     "name": "stdout",
     "output_type": "stream",
     "text": [
      "8\n"
     ]
    }
   ],
   "source": [
    "print(c)"
   ]
  },
  {
   "cell_type": "code",
   "execution_count": null,
   "id": "3fccf602-b254-4eea-86ab-0e356397ac74",
   "metadata": {},
   "outputs": [],
   "source": []
  },
  {
   "cell_type": "code",
   "execution_count": null,
   "id": "8471c916-b304-4c48-9ee0-ae43027f38a1",
   "metadata": {},
   "outputs": [],
   "source": []
  },
  {
   "cell_type": "code",
   "execution_count": null,
   "id": "2932df83-b4bb-4dcd-b1a9-0683c75a8e73",
   "metadata": {},
   "outputs": [],
   "source": []
  },
  {
   "cell_type": "code",
   "execution_count": null,
   "id": "2d3a1b4d-7f42-4afc-8cdc-bb4b9078ffa3",
   "metadata": {},
   "outputs": [],
   "source": []
  },
  {
   "cell_type": "markdown",
   "id": "57e47ff3-85f9-40a0-9fce-bb503674c295",
   "metadata": {},
   "source": [
    "<img src='imgs/11.png'/>"
   ]
  },
  {
   "cell_type": "code",
   "execution_count": 68,
   "id": "a12aba52-a50b-4082-be9e-a05f83d2fd8d",
   "metadata": {},
   "outputs": [],
   "source": [
    "a=10\n",
    "b=3\n",
    "c=6"
   ]
  },
  {
   "cell_type": "code",
   "execution_count": 77,
   "id": "e23be015-192a-43b5-aafb-42c51a4bb50d",
   "metadata": {},
   "outputs": [
    {
     "name": "stdout",
     "output_type": "stream",
     "text": [
      "clear\n"
     ]
    }
   ],
   "source": [
    "a=b\n",
    "if a>b:\n",
    "    print('a is bigger')\n",
    "elif a<b:\n",
    "    print('a is smaller')\n",
    "     \n",
    "# elif a<=b:\n",
    "#     print('a is smaller')\n",
    "# elif a>=b:\n",
    "#     print('a is smaller')\n",
    "else:print('clear')\n"
   ]
  },
  {
   "cell_type": "code",
   "execution_count": 79,
   "id": "94cea4e2-d544-4cff-b566-016cd634b257",
   "metadata": {},
   "outputs": [
    {
     "name": "stdout",
     "output_type": "stream",
     "text": [
      "2.0\n"
     ]
    }
   ],
   "source": [
    "# Nested if\n",
    "x=10\n",
    "y=20\n",
    "\n",
    "if x<y and y%2==0:\n",
    "        print(y/x)"
   ]
  },
  {
   "cell_type": "code",
   "execution_count": null,
   "id": "42437348-e72d-40dc-9d6a-e0ea91dcf4e8",
   "metadata": {},
   "outputs": [],
   "source": []
  },
  {
   "cell_type": "code",
   "execution_count": null,
   "id": "38be02d0-fc73-497a-8e62-5582f214d940",
   "metadata": {},
   "outputs": [],
   "source": []
  },
  {
   "cell_type": "markdown",
   "id": "ecb03bf6-4abf-4615-80e6-c9a938c6292e",
   "metadata": {},
   "source": [
    "<img src='imgs/12.png'/>\n"
   ]
  },
  {
   "cell_type": "code",
   "execution_count": 84,
   "id": "6a00ae53-f7fc-4660-83ab-7aa4ced46a41",
   "metadata": {},
   "outputs": [
    {
     "name": "stdin",
     "output_type": "stream",
     "text": [
      "Enter the number 5\n"
     ]
    },
    {
     "name": "stdout",
     "output_type": "stream",
     "text": [
      "Odd\n"
     ]
    }
   ],
   "source": [
    "x=float(input('Enter the number'))\n",
    "# if x%2==0:\n",
    "#     result='Even'\n",
    "# else:\n",
    "#     result='odd'\n",
    "# print(result)\n",
    "result='Even' if x%2==0 else 'Odd'\n",
    "print(result)"
   ]
  },
  {
   "cell_type": "code",
   "execution_count": null,
   "id": "35036a52-fe99-4ea6-bd2d-304914b1e346",
   "metadata": {},
   "outputs": [],
   "source": [
    "if x==5 or x==3:\n",
    "    "
   ]
  },
  {
   "cell_type": "code",
   "execution_count": null,
   "id": "ee4b0d6b-9665-4aca-8b27-4b29365c346f",
   "metadata": {},
   "outputs": [],
   "source": []
  },
  {
   "cell_type": "code",
   "execution_count": null,
   "id": "dace4bc9-45c0-4729-a414-b7c4153dc457",
   "metadata": {},
   "outputs": [],
   "source": []
  },
  {
   "cell_type": "code",
   "execution_count": null,
   "id": "a21ead0f-5705-4c42-93d1-8cd8975139d1",
   "metadata": {},
   "outputs": [],
   "source": []
  },
  {
   "cell_type": "markdown",
   "id": "5a8c3748-faea-4a9a-99c7-db999f700cf9",
   "metadata": {},
   "source": [
    "# <center> Loops </center>"
   ]
  },
  {
   "cell_type": "markdown",
   "id": "cf7cc337-3433-4772-98ad-bdbe0513efbb",
   "metadata": {},
   "source": [
    "<img src='imgs/13.png'/>"
   ]
  },
  {
   "cell_type": "code",
   "execution_count": 12,
   "id": "4e64dddd-540c-445d-ac69-62a43690cad0",
   "metadata": {},
   "outputs": [
    {
     "name": "stdout",
     "output_type": "stream",
     "text": [
      "a\n"
     ]
    }
   ],
   "source": [
    "l=['a','b','c','d']\n",
    "for i in l:\n",
    "    print(i)\n",
    "    # continue\n",
    "    # break\n",
    "    print('='*10)"
   ]
  },
  {
   "cell_type": "code",
   "execution_count": 21,
   "id": "a090aa79-e7d6-4049-8988-97abf28af1c7",
   "metadata": {},
   "outputs": [
    {
     "name": "stdout",
     "output_type": "stream",
     "text": [
      "start\n",
      "end\n"
     ]
    }
   ],
   "source": [
    "import time\n",
    "print('start')\n",
    "time.sleep(3)\n",
    "print('end')"
   ]
  },
  {
   "cell_type": "code",
   "execution_count": 22,
   "id": "a13c8852-d7a2-4057-bc3c-8b9bbef2e5d0",
   "metadata": {},
   "outputs": [
    {
     "name": "stdout",
     "output_type": "stream",
     "text": [
      "10\n",
      "9\n",
      "8\n",
      "7\n",
      "6\n",
      "5\n",
      "4\n",
      "3\n",
      "2\n",
      "1\n"
     ]
    }
   ],
   "source": [
    "for i in range(10,0,-1):\n",
    "    print(i)\n",
    "    time.sleep(1)"
   ]
  },
  {
   "cell_type": "code",
   "execution_count": 26,
   "id": "edb9f9dd-dba1-4ce0-bdc8-ff5a190e73b0",
   "metadata": {},
   "outputs": [
    {
     "name": "stdout",
     "output_type": "stream",
     "text": [
      "120\n"
     ]
    }
   ],
   "source": [
    "c=1\n",
    "for i in range(5,0,-1):\n",
    "    c=c*i\n",
    "print(c)"
   ]
  },
  {
   "cell_type": "code",
   "execution_count": 41,
   "id": "28c33a9b-6ab2-44f9-9741-3071d808ea69",
   "metadata": {},
   "outputs": [
    {
     "name": "stdout",
     "output_type": "stream",
     "text": [
      "236\n"
     ]
    }
   ],
   "source": [
    "x=[1,3,8,5,7,12,15,80,105]\n",
    "z=0\n",
    "for i in x:\n",
    "    z=z+i\n",
    "print(z)\n"
   ]
  },
  {
   "cell_type": "code",
   "execution_count": 38,
   "id": "dd8d43a7-c979-49e4-9840-3d358345d298",
   "metadata": {},
   "outputs": [
    {
     "name": "stdout",
     "output_type": "stream",
     "text": [
      "236\n"
     ]
    }
   ],
   "source": [
    "z=0\n",
    "for i in range(len(x)):\n",
    "    z=z+x[i]\n",
    "print(z)\n"
   ]
  },
  {
   "cell_type": "code",
   "execution_count": 42,
   "id": "8b7d1f27-32ac-4e90-8812-c289ec305280",
   "metadata": {},
   "outputs": [],
   "source": [
    "y=[[1,2,3],\n",
    "   [4,5,6],\n",
    "   [7,8,9]]\n",
    "\n"
   ]
  },
  {
   "cell_type": "code",
   "execution_count": 56,
   "id": "f5b3cd5c-c417-4448-90cb-79b89668e36a",
   "metadata": {},
   "outputs": [
    {
     "name": "stdout",
     "output_type": "stream",
     "text": [
      "=:=:=:=:=:=:=:=:=:=:\n",
      "=:=:=:=:=:=:=:=:=:=:\n",
      "=:=:=:=:=:=:=:=:=:=:\n",
      "[6, 15, 24]\n"
     ]
    }
   ],
   "source": [
    "a=[]\n",
    "for row in y:\n",
    "  \n",
    "    z=0\n",
    "    for i in row:\n",
    "        z=z+i\n",
    "    a.append(z)    \n",
    "    print(\"=:\"*10)\n",
    "print(a)"
   ]
  },
  {
   "cell_type": "code",
   "execution_count": 58,
   "id": "35e61b36-e11a-4bf4-ac99-d949334d01f1",
   "metadata": {},
   "outputs": [],
   "source": [
    "for i in range(10):\n",
    "    pass"
   ]
  },
  {
   "cell_type": "code",
   "execution_count": null,
   "id": "8ad463f2-cfc5-4284-a065-52642605e397",
   "metadata": {},
   "outputs": [],
   "source": []
  },
  {
   "cell_type": "code",
   "execution_count": null,
   "id": "09bf64b0-9ea3-44be-8222-6dfc4c85de0b",
   "metadata": {},
   "outputs": [],
   "source": []
  },
  {
   "cell_type": "code",
   "execution_count": null,
   "id": "8f0a3d16-2eff-4e57-b8c2-ef88ac8929db",
   "metadata": {},
   "outputs": [],
   "source": []
  },
  {
   "attachments": {},
   "cell_type": "markdown",
   "id": "460a4249-abcb-4a99-abdc-d41454936a24",
   "metadata": {},
   "source": [
    "<img src='imgs/14.png'/>"
   ]
  },
  {
   "cell_type": "markdown",
   "id": "50e84671-4830-43b8-a1c7-bcce61d90d8a",
   "metadata": {},
   "source": [
    "# While"
   ]
  },
  {
   "cell_type": "code",
   "execution_count": 10,
   "id": "b7af6877-4cb6-40b1-8372-14b2a80397c0",
   "metadata": {
    "scrolled": true
   },
   "outputs": [
    {
     "name": "stdout",
     "output_type": "stream",
     "text": [
      "0\n",
      "1\n",
      "2\n",
      "3\n",
      "4\n",
      "5\n",
      "6\n",
      "7\n",
      "8\n",
      "9\n",
      "10\n"
     ]
    }
   ],
   "source": [
    "x=0\n",
    "while x<=10 or x%2==0:\n",
    "    \n",
    "    # if x<=10:\n",
    "    # if x%2==0:\n",
    "    print(x)\n",
    "    # else:\n",
    "    #     break\n",
    "    x=x+1\n",
    "    "
   ]
  },
  {
   "cell_type": "code",
   "execution_count": 20,
   "id": "e898c01f-1aa0-42f4-85c0-698771ecaa3e",
   "metadata": {},
   "outputs": [
    {
     "name": "stdout",
     "output_type": "stream",
     "text": [
      "Enter a number to select a name:\n",
      "    1- Ali\n",
      "    2 - Ahmed\n",
      "    3 - Amr\n",
      "    Press q to exit\n"
     ]
    },
    {
     "name": "stdin",
     "output_type": "stream",
     "text": [
      "User input 4\n"
     ]
    },
    {
     "name": "stdout",
     "output_type": "stream",
     "text": [
      "Wrong input\n"
     ]
    },
    {
     "name": "stdin",
     "output_type": "stream",
     "text": [
      "User input q\n"
     ]
    },
    {
     "name": "stdout",
     "output_type": "stream",
     "text": [
      "End\n"
     ]
    }
   ],
   "source": [
    "names={1:'Ali',\n",
    "       2:'Ahmed',\n",
    "       3:'Amr'}\n",
    "print('''Enter a number to select a name:\n",
    "    1- Ali\n",
    "    2 - Ahmed\n",
    "    3 - Amr\n",
    "    Press q to exit''')\n",
    "while True:\n",
    "   \n",
    "    t=input('User input')\n",
    "    if t=='q':\n",
    "        print('End')\n",
    "        break\n",
    "    key=int(t)\n",
    "    if key in names.keys():\n",
    "        print(names[key])\n",
    "    else:\n",
    "        print('Wrong input')\n",
    "        # continue\n",
    "    "
   ]
  },
  {
   "cell_type": "code",
   "execution_count": 17,
   "id": "9a802be8-adaf-495e-b752-636e638eb48e",
   "metadata": {},
   "outputs": [
    {
     "data": {
      "text/plain": [
       "dict_keys([1, 2, 3])"
      ]
     },
     "execution_count": 17,
     "metadata": {},
     "output_type": "execute_result"
    }
   ],
   "source": [
    "names.keys()"
   ]
  },
  {
   "cell_type": "code",
   "execution_count": 29,
   "id": "d6415563-d972-4c40-b790-864e78c62101",
   "metadata": {},
   "outputs": [
    {
     "name": "stdin",
     "output_type": "stream",
     "text": [
      "enter 5\n"
     ]
    }
   ],
   "source": [
    "text=input('enter')"
   ]
  },
  {
   "cell_type": "code",
   "execution_count": 30,
   "id": "e6402ca4-58ee-400f-b4b5-4bfb93e8af6a",
   "metadata": {},
   "outputs": [
    {
     "data": {
      "text/plain": [
       "True"
      ]
     },
     "execution_count": 30,
     "metadata": {},
     "output_type": "execute_result"
    }
   ],
   "source": [
    "text.isdigit()"
   ]
  },
  {
   "cell_type": "code",
   "execution_count": 35,
   "id": "c420b889-1c34-4be4-8663-c67178b4fdbb",
   "metadata": {},
   "outputs": [
    {
     "name": "stdin",
     "output_type": "stream",
     "text": [
      "Enter number k\n"
     ]
    },
    {
     "name": "stdout",
     "output_type": "stream",
     "text": [
      "Enter a valid value\n"
     ]
    },
    {
     "ename": "KeyboardInterrupt",
     "evalue": "Interrupted by user",
     "output_type": "error",
     "traceback": [
      "\u001b[1;31m---------------------------------------------------------------------------\u001b[0m",
      "\u001b[1;31mKeyboardInterrupt\u001b[0m                         Traceback (most recent call last)",
      "Cell \u001b[1;32mIn[35], line 3\u001b[0m\n\u001b[0;32m      1\u001b[0m c\u001b[38;5;241m=\u001b[39m\u001b[38;5;241m0\u001b[39m\n\u001b[0;32m      2\u001b[0m \u001b[38;5;28;01mwhile\u001b[39;00m \u001b[38;5;28;01mTrue\u001b[39;00m:\n\u001b[1;32m----> 3\u001b[0m     inp\u001b[38;5;241m=\u001b[39m\u001b[38;5;28;43minput\u001b[39;49m\u001b[43m(\u001b[49m\u001b[38;5;124;43m'\u001b[39;49m\u001b[38;5;124;43mEnter number\u001b[39;49m\u001b[38;5;124;43m'\u001b[39;49m\u001b[43m)\u001b[49m\n\u001b[0;32m      4\u001b[0m     \u001b[38;5;28;01mif\u001b[39;00m \u001b[38;5;129;01mnot\u001b[39;00m inp\u001b[38;5;241m.\u001b[39misdigit():\n\u001b[0;32m      5\u001b[0m         \u001b[38;5;28mprint\u001b[39m(\u001b[38;5;124m'\u001b[39m\u001b[38;5;124mEnter a valid value\u001b[39m\u001b[38;5;124m'\u001b[39m)\n",
      "File \u001b[1;32m~\\AppData\\Local\\Programs\\Python\\Python313\\Lib\\site-packages\\ipykernel\\kernelbase.py:1282\u001b[0m, in \u001b[0;36mKernel.raw_input\u001b[1;34m(self, prompt)\u001b[0m\n\u001b[0;32m   1280\u001b[0m     msg \u001b[38;5;241m=\u001b[39m \u001b[38;5;124m\"\u001b[39m\u001b[38;5;124mraw_input was called, but this frontend does not support input requests.\u001b[39m\u001b[38;5;124m\"\u001b[39m\n\u001b[0;32m   1281\u001b[0m     \u001b[38;5;28;01mraise\u001b[39;00m StdinNotImplementedError(msg)\n\u001b[1;32m-> 1282\u001b[0m \u001b[38;5;28;01mreturn\u001b[39;00m \u001b[38;5;28;43mself\u001b[39;49m\u001b[38;5;241;43m.\u001b[39;49m\u001b[43m_input_request\u001b[49m\u001b[43m(\u001b[49m\n\u001b[0;32m   1283\u001b[0m \u001b[43m    \u001b[49m\u001b[38;5;28;43mstr\u001b[39;49m\u001b[43m(\u001b[49m\u001b[43mprompt\u001b[49m\u001b[43m)\u001b[49m\u001b[43m,\u001b[49m\n\u001b[0;32m   1284\u001b[0m \u001b[43m    \u001b[49m\u001b[38;5;28;43mself\u001b[39;49m\u001b[38;5;241;43m.\u001b[39;49m\u001b[43m_parent_ident\u001b[49m\u001b[43m[\u001b[49m\u001b[38;5;124;43m\"\u001b[39;49m\u001b[38;5;124;43mshell\u001b[39;49m\u001b[38;5;124;43m\"\u001b[39;49m\u001b[43m]\u001b[49m\u001b[43m,\u001b[49m\n\u001b[0;32m   1285\u001b[0m \u001b[43m    \u001b[49m\u001b[38;5;28;43mself\u001b[39;49m\u001b[38;5;241;43m.\u001b[39;49m\u001b[43mget_parent\u001b[49m\u001b[43m(\u001b[49m\u001b[38;5;124;43m\"\u001b[39;49m\u001b[38;5;124;43mshell\u001b[39;49m\u001b[38;5;124;43m\"\u001b[39;49m\u001b[43m)\u001b[49m\u001b[43m,\u001b[49m\n\u001b[0;32m   1286\u001b[0m \u001b[43m    \u001b[49m\u001b[43mpassword\u001b[49m\u001b[38;5;241;43m=\u001b[39;49m\u001b[38;5;28;43;01mFalse\u001b[39;49;00m\u001b[43m,\u001b[49m\n\u001b[0;32m   1287\u001b[0m \u001b[43m\u001b[49m\u001b[43m)\u001b[49m\n",
      "File \u001b[1;32m~\\AppData\\Local\\Programs\\Python\\Python313\\Lib\\site-packages\\ipykernel\\kernelbase.py:1325\u001b[0m, in \u001b[0;36mKernel._input_request\u001b[1;34m(self, prompt, ident, parent, password)\u001b[0m\n\u001b[0;32m   1322\u001b[0m \u001b[38;5;28;01mexcept\u001b[39;00m \u001b[38;5;167;01mKeyboardInterrupt\u001b[39;00m:\n\u001b[0;32m   1323\u001b[0m     \u001b[38;5;66;03m# re-raise KeyboardInterrupt, to truncate traceback\u001b[39;00m\n\u001b[0;32m   1324\u001b[0m     msg \u001b[38;5;241m=\u001b[39m \u001b[38;5;124m\"\u001b[39m\u001b[38;5;124mInterrupted by user\u001b[39m\u001b[38;5;124m\"\u001b[39m\n\u001b[1;32m-> 1325\u001b[0m     \u001b[38;5;28;01mraise\u001b[39;00m \u001b[38;5;167;01mKeyboardInterrupt\u001b[39;00m(msg) \u001b[38;5;28;01mfrom\u001b[39;00m\u001b[38;5;250m \u001b[39m\u001b[38;5;28;01mNone\u001b[39;00m\n\u001b[0;32m   1326\u001b[0m \u001b[38;5;28;01mexcept\u001b[39;00m \u001b[38;5;167;01mException\u001b[39;00m:\n\u001b[0;32m   1327\u001b[0m     \u001b[38;5;28mself\u001b[39m\u001b[38;5;241m.\u001b[39mlog\u001b[38;5;241m.\u001b[39mwarning(\u001b[38;5;124m\"\u001b[39m\u001b[38;5;124mInvalid Message:\u001b[39m\u001b[38;5;124m\"\u001b[39m, exc_info\u001b[38;5;241m=\u001b[39m\u001b[38;5;28;01mTrue\u001b[39;00m)\n",
      "\u001b[1;31mKeyboardInterrupt\u001b[0m: Interrupted by user"
     ]
    }
   ],
   "source": [
    "c=0\n",
    "while True:\n",
    "    inp=input('Enter number')\n",
    "    if not inp.isdigit():\n",
    "        print('Enter a valid value')\n",
    "        continue\n",
    "    op=input('enter operation')\n",
    "    if op in ['+','-','*','/','=']:\n",
    "        if op=='-':\n",
    "            c=c-float(inp)\n",
    "            \n",
    "    # elif inp=='=':\n",
    "    #     print(c)\n",
    "    #     c=0\n",
    "    # elif inp=='-':\n",
    "    #     pass\n",
    "    # elif inp=='q':\n",
    "    #     break"
   ]
  },
  {
   "cell_type": "code",
   "execution_count": 24,
   "id": "051aa160-a0bc-4a3c-a475-3f4d9c4bd0cb",
   "metadata": {},
   "outputs": [
    {
     "data": {
      "text/plain": [
       "\u001b[1;31mSignature:\u001b[0m \u001b[0mtext\u001b[0m\u001b[1;33m.\u001b[0m\u001b[0misdigit\u001b[0m\u001b[1;33m(\u001b[0m\u001b[1;33m)\u001b[0m\u001b[1;33m\u001b[0m\u001b[1;33m\u001b[0m\u001b[0m\n",
       "\u001b[1;31mDocstring:\u001b[0m\n",
       "Return True if the string is a digit string, False otherwise.\n",
       "\n",
       "A string is a digit string if all characters in the string are digits and there\n",
       "is at least one character in the string.\n",
       "\u001b[1;31mType:\u001b[0m      builtin_function_or_method"
      ]
     },
     "metadata": {},
     "output_type": "display_data"
    }
   ],
   "source": [
    "text.isdigit??"
   ]
  },
  {
   "cell_type": "code",
   "execution_count": null,
   "id": "862c9651-b43d-40cc-8b60-25c7cef1883f",
   "metadata": {},
   "outputs": [],
   "source": []
  },
  {
   "cell_type": "code",
   "execution_count": null,
   "id": "dff3824f-b625-4022-8a38-4f0ebeb7ad60",
   "metadata": {},
   "outputs": [],
   "source": []
  }
 ],
 "metadata": {
  "kernelspec": {
   "display_name": "Python 3 (ipykernel)",
   "language": "python",
   "name": "python3"
  },
  "language_info": {
   "codemirror_mode": {
    "name": "ipython",
    "version": 3
   },
   "file_extension": ".py",
   "mimetype": "text/x-python",
   "name": "python",
   "nbconvert_exporter": "python",
   "pygments_lexer": "ipython3",
   "version": "3.13.2"
  }
 },
 "nbformat": 4,
 "nbformat_minor": 5
}
