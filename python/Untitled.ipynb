{
 "cells": [
  {
   "cell_type": "code",
   "execution_count": 1,
   "id": "3a6a1c30-fead-461a-a7aa-15c1ff8df26d",
   "metadata": {},
   "outputs": [],
   "source": [
    "from cl import student\n",
    "from inheritance import inherited_student"
   ]
  },
  {
   "cell_type": "code",
   "execution_count": 2,
   "id": "b36e85b3-20fc-4920-b306-c82c77e26288",
   "metadata": {},
   "outputs": [
    {
     "name": "stdout",
     "output_type": "stream",
     "text": [
      "running\n"
     ]
    }
   ],
   "source": [
    "s1=student()"
   ]
  },
  {
   "cell_type": "code",
   "execution_count": 4,
   "id": "9c52e6b5-78a6-469e-9ce5-5b0f9c4d2469",
   "metadata": {},
   "outputs": [
    {
     "name": "stdout",
     "output_type": "stream",
     "text": [
      "running\n"
     ]
    }
   ],
   "source": [
    "s2=student(name='ali')"
   ]
  },
  {
   "cell_type": "code",
   "execution_count": 3,
   "id": "7a32bc09-b414-402f-8304-f08776568908",
   "metadata": {},
   "outputs": [
    {
     "data": {
      "text/plain": [
       "'ssss'"
      ]
     },
     "execution_count": 3,
     "metadata": {},
     "output_type": "execute_result"
    }
   ],
   "source": [
    "s1.get_name()"
   ]
  },
  {
   "cell_type": "code",
   "execution_count": 5,
   "id": "164c63dd-1d21-43af-9638-58d440619fb7",
   "metadata": {},
   "outputs": [
    {
     "data": {
      "text/plain": [
       "'ali'"
      ]
     },
     "execution_count": 5,
     "metadata": {},
     "output_type": "execute_result"
    }
   ],
   "source": [
    "s2.get_name()"
   ]
  },
  {
   "cell_type": "code",
   "execution_count": 6,
   "id": "a711c03a-78cf-4543-8c54-1e47b111778b",
   "metadata": {},
   "outputs": [
    {
     "data": {
      "text/plain": [
       "'ssss'"
      ]
     },
     "execution_count": 6,
     "metadata": {},
     "output_type": "execute_result"
    }
   ],
   "source": [
    "s1.get_name()"
   ]
  },
  {
   "cell_type": "code",
   "execution_count": 2,
   "id": "36e08dd5-4daa-46bd-a7c3-a989216683fb",
   "metadata": {},
   "outputs": [
    {
     "name": "stdout",
     "output_type": "stream",
     "text": [
      "hello from inherited\n"
     ]
    }
   ],
   "source": [
    "inh=inherited_student()"
   ]
  },
  {
   "cell_type": "code",
   "execution_count": 4,
   "id": "2471fbfe-7dd4-4f60-b4b1-d035ff4c1ec4",
   "metadata": {},
   "outputs": [
    {
     "name": "stdout",
     "output_type": "stream",
     "text": [
      "overridden\n"
     ]
    }
   ],
   "source": [
    "inh.set_name()"
   ]
  },
  {
   "cell_type": "code",
   "execution_count": 10,
   "id": "50f40377-87e6-4e4a-be48-f82e72e083ef",
   "metadata": {},
   "outputs": [
    {
     "data": {
      "text/plain": [
       "'d'"
      ]
     },
     "execution_count": 10,
     "metadata": {},
     "output_type": "execute_result"
    }
   ],
   "source": [
    "inh.get_name()"
   ]
  },
  {
   "cell_type": "code",
   "execution_count": null,
   "id": "9e76e8dd-d9dd-47e3-837d-782f7dab7f2d",
   "metadata": {},
   "outputs": [],
   "source": []
  }
 ],
 "metadata": {
  "kernelspec": {
   "display_name": "Python 3 (ipykernel)",
   "language": "python",
   "name": "python3"
  },
  "language_info": {
   "codemirror_mode": {
    "name": "ipython",
    "version": 3
   },
   "file_extension": ".py",
   "mimetype": "text/x-python",
   "name": "python",
   "nbconvert_exporter": "python",
   "pygments_lexer": "ipython3",
   "version": "3.13.2"
  }
 },
 "nbformat": 4,
 "nbformat_minor": 5
}
