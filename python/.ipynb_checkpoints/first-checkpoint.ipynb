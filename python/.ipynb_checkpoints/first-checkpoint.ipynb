{
 "cells": [
  {
   "cell_type": "markdown",
   "id": "ab69dbfb-10bd-4a9b-b3da-960d9f5b3810",
   "metadata": {},
   "source": [
    "# <center>Python Functions<center>"
   ]
  },
  {
   "cell_type": "markdown",
   "id": "f870961c-957d-4611-a2d8-896b55f209cc",
   "metadata": {},
   "source": [
    "## print\n",
    "<br>\n",
    "print(\"text\")\n",
    "<br>\n",
    "print(\"text\",3)"
   ]
  },
  {
   "cell_type": "code",
   "execution_count": 26,
   "id": "7224df61-fd00-4a58-9474-4efbb52e8cc2",
   "metadata": {},
   "outputs": [
    {
     "name": "stdout",
     "output_type": "stream",
     "text": [
      "s A\n"
     ]
    }
   ],
   "source": [
    "print(\"s\",'A')"
   ]
  },
  {
   "cell_type": "code",
   "execution_count": 23,
   "id": "c81ed34e-157c-4abd-a0ba-69c33d6aa049",
   "metadata": {},
   "outputs": [
    {
     "name": "stdout",
     "output_type": "stream",
     "text": [
      "11\n"
     ]
    }
   ],
   "source": [
    "ad(\"a\",\"2\",x=5,y=6)"
   ]
  },
  {
   "cell_type": "code",
   "execution_count": 12,
   "id": "c6e5d05a-d673-4d79-b230-02aefc622075",
   "metadata": {},
   "outputs": [
    {
     "data": {
      "text/plain": [
       "\u001b[1;31mSignature:\u001b[0m \u001b[0mprint\u001b[0m\u001b[1;33m(\u001b[0m\u001b[1;33m*\u001b[0m\u001b[0margs\u001b[0m\u001b[1;33m,\u001b[0m \u001b[0msep\u001b[0m\u001b[1;33m=\u001b[0m\u001b[1;34m' '\u001b[0m\u001b[1;33m,\u001b[0m \u001b[0mend\u001b[0m\u001b[1;33m=\u001b[0m\u001b[1;34m'\\n'\u001b[0m\u001b[1;33m,\u001b[0m \u001b[0mfile\u001b[0m\u001b[1;33m=\u001b[0m\u001b[1;32mNone\u001b[0m\u001b[1;33m,\u001b[0m \u001b[0mflush\u001b[0m\u001b[1;33m=\u001b[0m\u001b[1;32mFalse\u001b[0m\u001b[1;33m)\u001b[0m\u001b[1;33m\u001b[0m\u001b[1;33m\u001b[0m\u001b[0m\n",
       "\u001b[1;31mDocstring:\u001b[0m\n",
       "Prints the values to a stream, or to sys.stdout by default.\n",
       "\n",
       "sep\n",
       "  string inserted between values, default a space.\n",
       "end\n",
       "  string appended after the last value, default a newline.\n",
       "file\n",
       "  a file-like object (stream); defaults to the current sys.stdout.\n",
       "flush\n",
       "  whether to forcibly flush the stream.\n",
       "\u001b[1;31mType:\u001b[0m      builtin_function_or_method"
      ]
     },
     "metadata": {},
     "output_type": "display_data"
    }
   ],
   "source": [
    "print??"
   ]
  },
  {
   "cell_type": "code",
   "execution_count": 28,
   "id": "7272f312-b22b-4d7e-b1d7-62472e2ebe2d",
   "metadata": {},
   "outputs": [
    {
     "name": "stdout",
     "output_type": "stream",
     "text": [
      "Ali 5959 iuuyu huyuu\n"
     ]
    }
   ],
   "source": [
    "print(\"Ali\",5959,'iuuyu','huyuu')"
   ]
  },
  {
   "cell_type": "markdown",
   "id": "a2541666-b8df-41aa-a499-ad47138766f9",
   "metadata": {},
   "source": [
    "# Comment:\n",
    "<ol>\n",
    "    \n",
    "\n",
    "<li>\n",
    "    Comments in Python are text annotations within the code that are ignored during execution, providing explanations or notes for \n",
    "better understanding.</li>\n",
    "\n",
    "<li>You can insert single-line comments using '#' and multi-line comments using triple single quotes (' ' ').</li>\n",
    "</ol>\n"
   ]
  },
  {
   "cell_type": "markdown",
   "id": "1cdccd9e-93e3-4f5f-8b42-a6118459be39",
   "metadata": {},
   "source": [
    "# Q1: What is the output of?\n",
    "<br>\n",
    "'''\n",
    "<br>\n",
    "print('hello')\n",
    "<br>print('hello')\n",
    "<br>print('hello')\n",
    "<br>print('hello')\n",
    "<br>print('hello')\n",
    "'''\n",
    "<br>"
   ]
  },
  {
   "cell_type": "code",
   "execution_count": 39,
   "id": "b749e568-0d59-4450-9ab8-226fd1ea6cb0",
   "metadata": {},
   "outputs": [
    {
     "name": "stdout",
     "output_type": "stream",
     "text": [
      "sssssssssssssssssssssssssssssssssssssssssssssssssssssssss\tsssssssssssssssssssssssssssssssssssssssssssssssssssssssssssss\n"
     ]
    }
   ],
   "source": [
    "# print(\"sss\")\n",
    "print('sssssssssssssssssssssssssssssssssssssssssssssssssssssssss\\tsssssssssssssssssssssssssssssssssssssssssssssssssssssssssssss')\n"
   ]
  },
  {
   "cell_type": "markdown",
   "id": "1eb3efce-6c96-44ab-8c13-cc3160ab29a2",
   "metadata": {},
   "source": [
    "# Identifiers\n",
    "<ol>\n",
    "<li>Python identifiers are user-defined names for variables, functions, classes, or objects in code.</li>\n",
    "<li>Guidelines for creating identifiers include using letters (uppercase and lowercase), numbers, and underscores.</li>\n",
    "<li>Special characters and operators are not allowed in identifiers.</li>\n",
    "<li>Identifiers should not begin with a number, and certain keywords are reserved and cannot be used as standalone identifiers.</li>\n",
    "<li>Meaningful names for identifiers are encouraged.</li>\n",
    "<li>Python is case-sensitive, distinguishing between uppercase and lowercase identifiers.</li>\n",
    "<li>Avoid using 'l', 'I', or 'O' as single-character variable names due to potential font-related confusion.</li>\n",
    "</ol>"
   ]
  },
  {
   "cell_type": "code",
   "execution_count": 40,
   "id": "933eb357-737c-496b-b7f0-3879888bcc7a",
   "metadata": {},
   "outputs": [],
   "source": [
    "def add():\n",
    "    print(2+6)"
   ]
  },
  {
   "cell_type": "code",
   "execution_count": 51,
   "id": "0b74cb59-6491-4978-af14-5f431cd80f7c",
   "metadata": {},
   "outputs": [
    {
     "name": "stdout",
     "output_type": "stream",
     "text": [
      "5\n"
     ]
    }
   ],
   "source": [
    "# declaring variables\n",
    "a=2 # assignment\n",
    "a=4\n",
    "A=5\n",
    "print(A)"
   ]
  },
  {
   "cell_type": "code",
   "execution_count": null,
   "id": "2066416d-782f-40c7-b648-f93179368501",
   "metadata": {},
   "outputs": [],
   "source": [
    "# camel case\n",
    "# firstDay\n",
    "# PascalCase\n",
    "#snake case first_day\n",
    "#upper case FIRST_DAY constants"
   ]
  },
  {
   "cell_type": "code",
   "execution_count": 62,
   "id": "61e7c861-5a74-421a-b3f0-216b48d4fd27",
   "metadata": {},
   "outputs": [
    {
     "name": "stdout",
     "output_type": "stream",
     "text": [
      "ali 20\n"
     ]
    }
   ],
   "source": [
    "name='ali'\n",
    "age=20\n",
    "print(name,age)"
   ]
  },
  {
   "cell_type": "code",
   "execution_count": 63,
   "id": "7af94df4-4d1d-43bf-be7a-a0ca993a6f46",
   "metadata": {},
   "outputs": [
    {
     "name": "stdout",
     "output_type": "stream",
     "text": [
      "My name is ali and I am 20  years old\n"
     ]
    }
   ],
   "source": [
    "print('My name is', name, 'and I am', age,' years old')"
   ]
  },
  {
   "cell_type": "code",
   "execution_count": 65,
   "id": "ad433974-adbe-4b25-9c42-a178bf90530a",
   "metadata": {},
   "outputs": [
    {
     "name": "stdout",
     "output_type": "stream",
     "text": [
      "My name is ali and I am 20 years old\n"
     ]
    }
   ],
   "source": [
    "print('My name is '+ name+ ' and I am '+ str(age)+' years old')"
   ]
  },
  {
   "cell_type": "code",
   "execution_count": null,
   "id": "1b3ec46c-db24-4727-b416-b63c12de739f",
   "metadata": {},
   "outputs": [],
   "source": []
  },
  {
   "cell_type": "markdown",
   "id": "5dee58fa-d1f9-48f2-b6e8-0f2862f494c3",
   "metadata": {},
   "source": [
    "\n",
    "# Format function\n",
    "format function in strings helps you put variables into a text by using curly braces {} as placeholders. You can replace these \n",
    "placeholders with actual values when using the format function, making your text dynamic and customized."
   ]
  },
  {
   "cell_type": "code",
   "execution_count": 66,
   "id": "53530728-08e3-4c00-9836-fab02800e5fe",
   "metadata": {},
   "outputs": [
    {
     "name": "stdout",
     "output_type": "stream",
     "text": [
      "My name is ali and I am 20 years old\n"
     ]
    }
   ],
   "source": [
    "print('My name is {} and I am {} years old'.format(name,age))"
   ]
  },
  {
   "cell_type": "code",
   "execution_count": 76,
   "id": "f0363317-46d8-47ee-8167-09ecf93da47e",
   "metadata": {},
   "outputs": [
    {
     "name": "stdout",
     "output_type": "stream",
     "text": [
      "My name is ali and I am 20 years old\n"
     ]
    }
   ],
   "source": [
    "print('My name is {0} and I am {1} years old'.format(name,age))"
   ]
  },
  {
   "cell_type": "code",
   "execution_count": 79,
   "id": "1f950e7b-665d-444b-b537-3b8622bcf214",
   "metadata": {},
   "outputs": [
    {
     "name": "stdout",
     "output_type": "stream",
     "text": [
      "My name is ali and I am 20 years old\n"
     ]
    }
   ],
   "source": [
    "print(f\"My name is {name} and I am {age} years old\")"
   ]
  },
  {
   "cell_type": "code",
   "execution_count": 80,
   "id": "10db2b7e-9c4b-4350-99c9-632ba8f5da65",
   "metadata": {},
   "outputs": [
    {
     "name": "stdin",
     "output_type": "stream",
     "text": [
      "Enter First Name:  Mohamad\n"
     ]
    }
   ],
   "source": [
    "name=input('Enter First Name: ')"
   ]
  },
  {
   "cell_type": "code",
   "execution_count": 82,
   "id": "417fa910-05d4-4134-96f3-b9e3712b840d",
   "metadata": {},
   "outputs": [
    {
     "name": "stdin",
     "output_type": "stream",
     "text": [
      "jgggg \n"
     ]
    },
    {
     "data": {
      "text/plain": [
       "''"
      ]
     },
     "execution_count": 82,
     "metadata": {},
     "output_type": "execute_result"
    }
   ],
   "source": [
    "input('jgggg')"
   ]
  },
  {
   "cell_type": "markdown",
   "id": "9708f949-887b-4426-81fb-7b17c3ee543e",
   "metadata": {},
   "source": [
    "## Q2: \n",
    "Create a Python script to display personalized information. Utilize variables to store the user's name,  age, and the name of the course they are learning. Dynamically generate a message that includes this  information and print the result. Ensure clarity in your code implementation without relying on user input.\n",
    "## Expected Output:\n",
    "My name is {your_name}, and I am {your_age} years old. I am engaged in learning {course_name}."
   ]
  },
  {
   "cell_type": "markdown",
   "id": "4818a2d5-9e99-4924-9bd7-f902ab6e9109",
   "metadata": {},
   "source": [
    "# Data Types\n",
    "to know the type of a certain variable, use print(type(variable name))\n",
    "<img src='imgs/1.png'/>"
   ]
  },
  {
   "cell_type": "code",
   "execution_count": 88,
   "id": "c547f5f9-5d56-4ea1-9ce5-1a90e471b981",
   "metadata": {},
   "outputs": [
    {
     "name": "stdout",
     "output_type": "stream",
     "text": [
      "<class 'str'>\n"
     ]
    },
    {
     "data": {
      "text/plain": [
       "False"
      ]
     },
     "execution_count": 88,
     "metadata": {},
     "output_type": "execute_result"
    }
   ],
   "source": [
    "print(type(name))\n"
   ]
  },
  {
   "cell_type": "markdown",
   "id": "83818fd4-ad75-489e-8bd5-9642eda7b294",
   "metadata": {},
   "source": [
    "## Casting\n",
    "changing from a data type to another "
   ]
  },
  {
   "cell_type": "code",
   "execution_count": 94,
   "id": "67c47f2b-e32d-4c80-920b-08922df3081d",
   "metadata": {},
   "outputs": [
    {
     "name": "stdout",
     "output_type": "stream",
     "text": [
      "<class 'str'>\n"
     ]
    },
    {
     "data": {
      "text/plain": [
       "'20'"
      ]
     },
     "execution_count": 94,
     "metadata": {},
     "output_type": "execute_result"
    }
   ],
   "source": [
    "print(type(name))\n",
    "f=int(10.9)\n",
    "str(age)"
   ]
  },
  {
   "cell_type": "code",
   "execution_count": 101,
   "id": "7afd2950-b825-40d4-b412-c92a21895aeb",
   "metadata": {},
   "outputs": [
    {
     "name": "stdin",
     "output_type": "stream",
     "text": [
      "Enter Number jhgh\n"
     ]
    },
    {
     "ename": "ValueError",
     "evalue": "could not convert string to float: 'jhgh'",
     "output_type": "error",
     "traceback": [
      "\u001b[1;31m---------------------------------------------------------------------------\u001b[0m",
      "\u001b[1;31mValueError\u001b[0m                                Traceback (most recent call last)",
      "Cell \u001b[1;32mIn[101], line 1\u001b[0m\n\u001b[1;32m----> 1\u001b[0m first_number\u001b[38;5;241m=\u001b[39m\u001b[38;5;28;43mfloat\u001b[39;49m\u001b[43m(\u001b[49m\u001b[38;5;28;43minput\u001b[39;49m\u001b[43m(\u001b[49m\u001b[38;5;124;43m'\u001b[39;49m\u001b[38;5;124;43mEnter Number\u001b[39;49m\u001b[38;5;124;43m'\u001b[39;49m\u001b[43m)\u001b[49m\u001b[43m)\u001b[49m\n\u001b[0;32m      2\u001b[0m second_number\u001b[38;5;241m=\u001b[39m\u001b[38;5;28mfloat\u001b[39m(\u001b[38;5;28minput\u001b[39m(\u001b[38;5;124m'\u001b[39m\u001b[38;5;124mEnter Number\u001b[39m\u001b[38;5;124m'\u001b[39m))\n\u001b[0;32m      3\u001b[0m \u001b[38;5;28mprint\u001b[39m(first_number\u001b[38;5;241m+\u001b[39msecond_number)\n",
      "\u001b[1;31mValueError\u001b[0m: could not convert string to float: 'jhgh'"
     ]
    }
   ],
   "source": [
    "first_number=float(input('Enter Number'))\n",
    "second_number=float(input('Enter Number'))\n",
    "print(first_number+second_number)"
   ]
  },
  {
   "cell_type": "markdown",
   "id": "313e9a99-4a5c-41ce-8b3e-233e14e89d0b",
   "metadata": {},
   "source": [
    "# String\n",
    "<img src='imgs/2.png'>"
   ]
  },
  {
   "cell_type": "markdown",
   "id": "a27c243a-a27a-465c-9eba-dd3a7f450eb7",
   "metadata": {},
   "source": [
    "## String Slicing\n",
    "string[index]<br>\n",
    "string[start:end] <br>\n",
    "string[start:end:step]"
   ]
  },
  {
   "cell_type": "code",
   "execution_count": 104,
   "id": "9641e7e8-e207-476b-a239-85d7dfe7287d",
   "metadata": {},
   "outputs": [],
   "source": [
    "text='Hello World'"
   ]
  },
  {
   "cell_type": "code",
   "execution_count": 107,
   "id": "d2ce7e01-a57f-4fad-b0b8-ba5a7ba6d077",
   "metadata": {},
   "outputs": [
    {
     "data": {
      "text/plain": [
       "'e'"
      ]
     },
     "execution_count": 107,
     "metadata": {},
     "output_type": "execute_result"
    }
   ],
   "source": [
    "text[1]"
   ]
  },
  {
   "cell_type": "code",
   "execution_count": 112,
   "id": "b0659ecf-4b2b-42dd-9944-6eae5d9d00bb",
   "metadata": {},
   "outputs": [
    {
     "data": {
      "text/plain": [
       "'lo Wo'"
      ]
     },
     "execution_count": 112,
     "metadata": {},
     "output_type": "execute_result"
    }
   ],
   "source": [
    "text[3:8]"
   ]
  },
  {
   "cell_type": "code",
   "execution_count": 118,
   "id": "81cbb644-a792-4278-98b5-6991ad343906",
   "metadata": {},
   "outputs": [
    {
     "data": {
      "text/plain": [
       "'HlWl'"
      ]
     },
     "execution_count": 118,
     "metadata": {},
     "output_type": "execute_result"
    }
   ],
   "source": [
    "text[0:11:3]"
   ]
  },
  {
   "cell_type": "code",
   "execution_count": null,
   "id": "a395e539-bc45-4ea6-954f-c996d8708ec4",
   "metadata": {},
   "outputs": [],
   "source": []
  }
 ],
 "metadata": {
  "kernelspec": {
   "display_name": "Python 3 (ipykernel)",
   "language": "python",
   "name": "python3"
  },
  "language_info": {
   "codemirror_mode": {
    "name": "ipython",
    "version": 3
   },
   "file_extension": ".py",
   "mimetype": "text/x-python",
   "name": "python",
   "nbconvert_exporter": "python",
   "pygments_lexer": "ipython3",
   "version": "3.13.2"
  }
 },
 "nbformat": 4,
 "nbformat_minor": 5
}
