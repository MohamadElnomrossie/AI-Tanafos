{
 "cells": [
  {
   "cell_type": "markdown",
   "metadata": {},
   "source": [
    "# Task 1.\n",
    "- Calculate Factorial using recursion"
   ]
  },
  {
   "cell_type": "code",
   "execution_count": 4,
   "metadata": {},
   "outputs": [
    {
     "data": {
      "text/plain": [
       "120"
      ]
     },
     "execution_count": 4,
     "metadata": {},
     "output_type": "execute_result"
    }
   ],
   "source": [
    "def factorial(num):\n",
    "    # temp=1\n",
    "    # for i in range(1,num+1):\n",
    "    #    temp*=i\n",
    "    # return temp\n",
    "    if num==1:\n",
    "        return 1\n",
    "    if num==0:\n",
    "        return 0\n",
    "    return num*(factorial(num-1))\n",
    "factorial(5)"
   ]
  },
  {
   "cell_type": "markdown",
   "metadata": {},
   "source": [
    "# Task 2.\n",
    "- Write a function that takes a number and return True if this number is prime and False if not."
   ]
  },
  {
   "cell_type": "code",
   "execution_count": 8,
   "metadata": {},
   "outputs": [
    {
     "data": {
      "text/plain": [
       "False"
      ]
     },
     "execution_count": 8,
     "metadata": {},
     "output_type": "execute_result"
    }
   ],
   "source": [
    "def isPrime(num):\n",
    "    for i in range(2,num):\n",
    "        if num%i==0:\n",
    "            return False\n",
    "        \n",
    "    return True\n",
    "\n",
    "isPrime(55)"
   ]
  },
  {
   "cell_type": "markdown",
   "metadata": {},
   "source": [
    "# Task 3.\n",
    "- Write a function that takes two numbers and return a list of common dividors"
   ]
  },
  {
   "cell_type": "code",
   "execution_count": 15,
   "metadata": {},
   "outputs": [
    {
     "name": "stdout",
     "output_type": "stream",
     "text": [
      "[1, 2, 5, 10]\n"
     ]
    }
   ],
   "source": [
    "def dividors(num1, num2):\n",
    "    small=min(num1,num2)\n",
    "    nums=[]\n",
    "    for i in range(1,small+1):\n",
    "        if num1%i==0 and num2%i==0:\n",
    "            nums.append(i)\n",
    "    return nums\n",
    "x=dividors(20, 10)\n",
    "print(x)"
   ]
  },
  {
   "cell_type": "markdown",
   "metadata": {},
   "source": [
    "# Task 4. \n",
    "- Given two strings, write a program that efficiently finds the longest common subsequence\n",
    "\n",
    "- **Ex:** str1 = \"Welcome to Machine Learning Diploma\" str2 = \"I am studying a Machine Learning Course\" --> Machine Learning"
   ]
  },
  {
   "cell_type": "code",
   "execution_count": 29,
   "metadata": {},
   "outputs": [
    {
     "data": {
      "text/plain": [
       "' Machine Learning '"
      ]
     },
     "execution_count": 29,
     "metadata": {},
     "output_type": "execute_result"
    }
   ],
   "source": [
    "str1 = \"Welcome to Machine Learning Diploma\"\n",
    "str2 = \"I am studying a Machine Learning Course\"\n",
    "longes_str = \"\"\n",
    "for i in range(len(str1)):\n",
    "        \n",
    "    for j in range(i, len(str1)):\n",
    "        sub_str = str1[i:j+1]\n",
    "        if sub_str in str2:\n",
    "            if len(sub_str) > len(longes_str):\n",
    "                longes_str = sub_str\n",
    "    \n",
    "    \n",
    "longes_str\n"
   ]
  },
  {
   "cell_type": "markdown",
   "metadata": {},
   "source": [
    "# Task 5.\n",
    "- Write a function that will take a given string and reverse the order of words.\n",
    "\n",
    "- **Ex:** “Hello world” → ”world Hello”\n"
   ]
  },
  {
   "cell_type": "code",
   "execution_count": 50,
   "metadata": {},
   "outputs": [
    {
     "name": "stdout",
     "output_type": "stream",
     "text": [
      "World Hello\n"
     ]
    }
   ],
   "source": [
    "def fun(s):\n",
    "    split_text=s.split()\n",
    "    text_list=list(reversed(split_text))\n",
    "    new_text=\" \".join(text_list)\n",
    "    print(new_text)\n",
    "s = \"Hello World\"\n",
    "fun(s)"
   ]
  },
  {
   "cell_type": "code",
   "execution_count": 47,
   "metadata": {},
   "outputs": [
    {
     "ename": "TypeError",
     "evalue": "sequence item 0: expected str instance, int found",
     "output_type": "error",
     "traceback": [
      "\u001b[1;31m---------------------------------------------------------------------------\u001b[0m",
      "\u001b[1;31mTypeError\u001b[0m                                 Traceback (most recent call last)",
      "Cell \u001b[1;32mIn[47], line 1\u001b[0m\n\u001b[1;32m----> 1\u001b[0m \u001b[38;5;124;43m\"\u001b[39;49m\u001b[38;5;124;43m \u001b[39;49m\u001b[38;5;124;43m\"\u001b[39;49m\u001b[38;5;241;43m.\u001b[39;49m\u001b[43mjoin\u001b[49m\u001b[43m(\u001b[49m\u001b[43m[\u001b[49m\u001b[38;5;241;43m1\u001b[39;49m\u001b[43m,\u001b[49m\u001b[38;5;241;43m2\u001b[39;49m\u001b[43m,\u001b[49m\u001b[38;5;241;43m3\u001b[39;49m\u001b[43m,\u001b[49m\u001b[38;5;241;43m4\u001b[39;49m\u001b[43m]\u001b[49m\u001b[43m)\u001b[49m\n",
      "\u001b[1;31mTypeError\u001b[0m: sequence item 0: expected str instance, int found"
     ]
    }
   ],
   "source": [
    "\" \".join([1,2,3,4])"
   ]
  },
  {
   "cell_type": "code",
   "execution_count": null,
   "metadata": {},
   "outputs": [
    {
     "data": {
      "text/plain": [
       "'World Hello'"
      ]
     },
     "execution_count": 6,
     "metadata": {},
     "output_type": "execute_result"
    }
   ],
   "source": [
    "# another solution\n",
    "def fun(s):\n",
    "  pass\n",
    "\n",
    "s = \"Hello World\"\n",
    "fun(s)"
   ]
  },
  {
   "cell_type": "markdown",
   "metadata": {},
   "source": [
    "# Task 6.\n",
    "- Create a program that generates a random password of a given length.\n",
    "- Hint: use random module → import random → random.randrange"
   ]
  },
  {
   "cell_type": "code",
   "execution_count": 67,
   "metadata": {},
   "outputs": [
    {
     "name": "stdout",
     "output_type": "stream",
     "text": [
      "ebiac\n"
     ]
    }
   ],
   "source": [
    "import random\n",
    "import string\n",
    "\n",
    "characters=\"abcdefghi\"\n",
    "def generate_password(length):\n",
    "    password=\"\"\n",
    "    for i in range(length):\n",
    "        letter_idx=random.randrange(0, len(characters))\n",
    "        password+=characters[letter_idx]\n",
    "    return password\n",
    "        \n",
    "# Usage example\n",
    "password_length = 5\n",
    "random_password = generate_password(password_length)\n",
    "print(random_password)\n"
   ]
  },
  {
   "cell_type": "code",
   "execution_count": 60,
   "metadata": {},
   "outputs": [
    {
     "name": "stdout",
     "output_type": "stream",
     "text": [
      "None\n"
     ]
    }
   ],
   "source": [
    "# another solution\n",
    "import random\n",
    "\n",
    "def generate_password(length):\n",
    "   pass\n",
    "# Usage example\n",
    "password_length = 8\n",
    "random_password = generate_password(password_length)\n",
    "print(random_password)\n"
   ]
  },
  {
   "cell_type": "markdown",
   "metadata": {},
   "source": [
    "# Task 7.\n",
    "- Write a Python program to find all the unique words and count the frequency of occurrence from a given list of strings\n",
    "\n",
    "- **Ex:** [\"Welcome\", \"Ali\", \"Hi\", \"Ali\", \"No\", \"Hi\", \"No\", \"Ali\", \"No\", \"Ali\"]  → {'Ali': 4, 'Welcome': 1, 'No': 3, 'Hi': 2}"
   ]
  },
  {
   "cell_type": "code",
   "execution_count": null,
   "metadata": {},
   "outputs": [
    {
     "data": {
      "text/plain": [
       "{'Hi': 2, 'No': 3, 'Welcome': 1, 'Ali': 4}"
      ]
     },
     "execution_count": 9,
     "metadata": {},
     "output_type": "execute_result"
    }
   ],
   "source": [
    "words = [\"Welcome\", \"Ali\", \"Hi\", \"Ali\", \"No\", \"Hi\", \"No\", \"Ali\", \"No\", \"Ali\"]\n"
   ]
  },
  {
   "cell_type": "code",
   "execution_count": null,
   "metadata": {},
   "outputs": [
    {
     "name": "stdout",
     "output_type": "stream",
     "text": [
      "Hi:2\n",
      "No:3\n",
      "Welcome:1\n",
      "Ali:4\n"
     ]
    }
   ],
   "source": [
    "# another solution\n"
   ]
  },
  {
   "cell_type": "markdown",
   "metadata": {},
   "source": [
    "# Task 8.\n",
    "- Write a Python program to find all the unique words and count the frequency of occurrence from a text file and save the counts in a new file\n",
    "- This is the same as Task 7 but this time read words from a file\n",
    "- Hint: use replace function and split function"
   ]
  },
  {
   "cell_type": "markdown",
   "metadata": {},
   "source": [
    "**First Step: read the file**"
   ]
  },
  {
   "cell_type": "code",
   "execution_count": 11,
   "metadata": {},
   "outputs": [],
   "source": [
    "input_file = open(\"input_file.txt\", \"r\")\n",
    "text = input_file.read()\n",
    "input_file.close()"
   ]
  },
  {
   "cell_type": "markdown",
   "metadata": {},
   "source": [
    "**Second step: remove '\\n' then convert the file text into a list of words**"
   ]
  },
  {
   "cell_type": "code",
   "execution_count": null,
   "metadata": {},
   "outputs": [],
   "source": []
  },
  {
   "cell_type": "markdown",
   "metadata": {},
   "source": [
    "**Third Step: get unique words, create a dictionary, then count unique words**"
   ]
  },
  {
   "cell_type": "code",
   "execution_count": null,
   "metadata": {
    "scrolled": true
   },
   "outputs": [],
   "source": []
  },
  {
   "cell_type": "markdown",
   "metadata": {},
   "source": [
    "**Save the word-count pair into a text file**"
   ]
  },
  {
   "cell_type": "code",
   "execution_count": null,
   "metadata": {},
   "outputs": [],
   "source": []
  },
  {
   "cell_type": "markdown",
   "metadata": {},
   "source": [
    "# Task 9.\n",
    "- Implement a basic chatbot that can respond to user input with predefined responses"
   ]
  },
  {
   "cell_type": "code",
   "execution_count": null,
   "metadata": {},
   "outputs": [
    {
     "name": "stdout",
     "output_type": "stream",
     "text": [
      "Chatbot: Hi! How can I assist you today?\n",
      "Chatbot: I'm sorry, I didn't understand.\n",
      "Chatbot: Could you please rephrase that?\n",
      "Chatbot: Could you please rephrase that?\n",
      "Chatbot: Could you please rephrase that?\n",
      "Chatbot: I'm sorry, I didn't understand.\n",
      "Chatbot: Could you please rephrase that?\n",
      "Chatbot: Could you please rephrase that?\n",
      "Chatbot: I'm sorry, I didn't understand.\n",
      "Chatbot: I'm sorry, I didn't understand.\n",
      "Chatbot: Could you please rephrase that?\n",
      "Chatbot: I'm sorry, I didn't understand.\n",
      "Chatbot: I'm sorry, I didn't understand.\n",
      "Chatbot: Could you please rephrase that?\n"
     ]
    }
   ],
   "source": [
    "import random\n",
    "\n",
    "# Predefined responses\n",
    "responses = {\n",
    "    \"hello\": [\"Hello!\", \"Hi there!\", \"Greetings!\"],\n",
    "    \"how are you\": [\"I'm doing well, thank you!\", \"I'm fine, how about you?\"],\n",
    "    \"goodbye\": [\"Goodbye!\", \"See you later!\", \"Farewell!\"],\n",
    "    \"default\": [\"I'm sorry, I didn't understand.\", \"Could you please rephrase that?\"]\n",
    "}\n",
    "\n",
    "# Function to get a response based on user input\n",
    "def get_response(user_input):\n",
    "    pass\n",
    "\n",
    "# Chatbot function\n",
    "def chatbot():\n",
    "   pass\n",
    "\n",
    "# Run the chatbot\n",
    "chatbot()\n"
   ]
  },
  {
   "cell_type": "markdown",
   "metadata": {},
   "source": [
    "# Task 10: Person class and child Student class \n",
    "Create a Python class Person with attributes: name and age.\n",
    "- Create a display() method that displays the name and age of an object created via the Person class.\n",
    "- Create a child class Student which inherits from the Person class and which also has an extra attribute called school.\n",
    "- Create a method displayStudent() that displays the name, age and section of an object created via the Student class.\n",
    "- Create a student object via an instantiation on the Student class and then test the displayStudent method"
   ]
  },
  {
   "cell_type": "code",
   "execution_count": null,
   "metadata": {},
   "outputs": [],
   "source": [
    "class Person:\n",
    "   pass\n",
    "\n"
   ]
  },
  {
   "cell_type": "code",
   "execution_count": null,
   "metadata": {},
   "outputs": [
    {
     "name": "stdout",
     "output_type": "stream",
     "text": [
      "Name: Amr \n",
      "Age: 15\n",
      "School: ABC School \n",
      "\n"
     ]
    }
   ],
   "source": [
    "class Child(Person):\n",
    "    pass"
   ]
  },
  {
   "cell_type": "markdown",
   "metadata": {},
   "source": [
    "# Task 11: Rectangle class: \n",
    "- Write a Rectangle class in Python language, allowing you to build a rectangle with length and width attributes.\n",
    "- Create a Perimeter() method to calculate the perimeter of the rectangle and a Area() method to calculate the area of the rectangle.\n",
    "- Create a method display() that display the length, width, perimeter and area of an object created using an instantiation on rectangle class.\n",
    "- Create a Parallelepipede child class inheriting from the Rectangle class and with a height attribute and another Volume() method to calculate the volume of the Parallelepiped."
   ]
  },
  {
   "cell_type": "code",
   "execution_count": null,
   "metadata": {},
   "outputs": [
    {
     "name": "stdout",
     "output_type": "stream",
     "text": [
      "Length: 30 \n",
      "Width: 20 \n",
      "Perimeter: 100 \n",
      "Area: 600\n"
     ]
    }
   ],
   "source": [
    "class Rectangle:\n",
    "    def __init__(self ):\n",
    "        pass\n",
    "    \n",
    "    def perimeter(self):\n",
    "        pass\n",
    "    \n",
    "    def area(self):\n",
    "       pass\n",
    "    \n",
    "    def display(self):\n",
    "        pass\n",
    "        \n",
    "        \n",
    "    \n",
    "rect1 = Rectangle(30, 20)\n",
    "rect1.display()"
   ]
  },
  {
   "cell_type": "code",
   "execution_count": null,
   "metadata": {
    "scrolled": true
   },
   "outputs": [
    {
     "name": "stdout",
     "output_type": "stream",
     "text": [
      "Length: 20 \n",
      "Width: 30 \n",
      "Height: 10 \n",
      "Perimeter: No Perimeter \n",
      "Area: 2200 \n",
      "Volume: 6000\n"
     ]
    }
   ],
   "source": [
    "class Parallelepiped(Rectangle):\n",
    "    def __init__(self):\n",
    "       pass\n",
    "    \n",
    "    def perimeter(self):\n",
    "        pass\n",
    "    \n",
    "    def area(self):\n",
    "        pass\n",
    "    \n",
    "    def volume(self):\n",
    "        pass\n",
    "    \n",
    "    \n",
    "    def display(self):\n",
    "        pass\n",
    "\n",
    "paral1 = Parallelepiped(20, 30, 10)\n",
    "paral1.display()"
   ]
  },
  {
   "cell_type": "code",
   "execution_count": null,
   "metadata": {},
   "outputs": [],
   "source": []
  }
 ],
 "metadata": {
  "kernelspec": {
   "display_name": "Python 3 (ipykernel)",
   "language": "python",
   "name": "python3"
  },
  "language_info": {
   "codemirror_mode": {
    "name": "ipython",
    "version": 3
   },
   "file_extension": ".py",
   "mimetype": "text/x-python",
   "name": "python",
   "nbconvert_exporter": "python",
   "pygments_lexer": "ipython3",
   "version": "3.13.2"
  }
 },
 "nbformat": 4,
 "nbformat_minor": 4
}
