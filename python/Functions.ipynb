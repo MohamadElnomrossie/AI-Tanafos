{
 "cells": [
  {
   "cell_type": "code",
   "execution_count": 9,
   "id": "cbe6ca00-ac08-43e6-8d68-fe7fcf4d8b39",
   "metadata": {},
   "outputs": [
    {
     "data": {
      "text/plain": [
       "6.79"
      ]
     },
     "execution_count": 9,
     "metadata": {},
     "output_type": "execute_result"
    }
   ],
   "source": [
    "round(6.788,ndigits=2)"
   ]
  },
  {
   "cell_type": "code",
   "execution_count": 7,
   "id": "8a983f85-2a0c-4d73-9954-6f81fab4484a",
   "metadata": {},
   "outputs": [
    {
     "data": {
      "text/plain": [
       "6.0"
      ]
     },
     "execution_count": 7,
     "metadata": {},
     "output_type": "execute_result"
    }
   ],
   "source": [
    "round(ndigits=0,number=5.55)"
   ]
  },
  {
   "cell_type": "code",
   "execution_count": 10,
   "id": "26ff15e0-efa3-4f29-9dc6-e996bb07510c",
   "metadata": {},
   "outputs": [
    {
     "data": {
      "text/plain": [
       "10"
      ]
     },
     "execution_count": 10,
     "metadata": {},
     "output_type": "execute_result"
    }
   ],
   "source": [
    "max(2,4,5,8,10)"
   ]
  },
  {
   "cell_type": "code",
   "execution_count": 12,
   "id": "8c66cc8b-e38e-4380-bf28-4d65479a17e6",
   "metadata": {},
   "outputs": [
    {
     "data": {
      "text/plain": [
       "2"
      ]
     },
     "execution_count": 12,
     "metadata": {},
     "output_type": "execute_result"
    }
   ],
   "source": [
    "min([2,4,5,8,10])"
   ]
  },
  {
   "cell_type": "code",
   "execution_count": 13,
   "id": "5c0ad1b6-3742-4a02-bee1-966e763c6e40",
   "metadata": {},
   "outputs": [
    {
     "data": {
      "text/plain": [
       "[2, 4, 5, 8, 10]"
      ]
     },
     "execution_count": 13,
     "metadata": {},
     "output_type": "execute_result"
    }
   ],
   "source": [
    "sorted([2,4,5,8,10])"
   ]
  },
  {
   "cell_type": "code",
   "execution_count": 17,
   "id": "a9f78177-4391-42df-84d1-7eeeb3379bcc",
   "metadata": {},
   "outputs": [
    {
     "data": {
      "text/plain": [
       "[10, 8, 5, 4, 2]"
      ]
     },
     "execution_count": 17,
     "metadata": {},
     "output_type": "execute_result"
    }
   ],
   "source": [
    "list(reversed([2,4,5,8,10]))"
   ]
  },
  {
   "cell_type": "code",
   "execution_count": 26,
   "id": "fc74ed1e-edeb-478c-90cb-83e154255aa0",
   "metadata": {},
   "outputs": [],
   "source": [
    "st=\"hello world\""
   ]
  },
  {
   "cell_type": "code",
   "execution_count": 19,
   "id": "360f5d23-f260-434b-a6b9-77ce3d0e30cd",
   "metadata": {},
   "outputs": [
    {
     "name": "stdout",
     "output_type": "stream",
     "text": [
      "HELLO\n"
     ]
    }
   ],
   "source": [
    "print(st.upper())"
   ]
  },
  {
   "cell_type": "code",
   "execution_count": 21,
   "id": "5352390c-5188-405c-9c22-b92c932eb9de",
   "metadata": {},
   "outputs": [],
   "source": [
    "h=st.upper()"
   ]
  },
  {
   "cell_type": "code",
   "execution_count": 22,
   "id": "f437b129-3122-44fa-a28d-0145cbd19a05",
   "metadata": {},
   "outputs": [
    {
     "data": {
      "text/plain": [
       "'HELLO'"
      ]
     },
     "execution_count": 22,
     "metadata": {},
     "output_type": "execute_result"
    }
   ],
   "source": [
    "h"
   ]
  },
  {
   "cell_type": "code",
   "execution_count": 27,
   "id": "87484499-4b52-49f8-a48b-4b980766055f",
   "metadata": {},
   "outputs": [
    {
     "data": {
      "text/plain": [
       "'Hello World'"
      ]
     },
     "execution_count": 27,
     "metadata": {},
     "output_type": "execute_result"
    }
   ],
   "source": [
    "st.title()"
   ]
  },
  {
   "cell_type": "code",
   "execution_count": 28,
   "id": "8a9b7b79-ca4c-463d-a364-13b6a048ba9e",
   "metadata": {},
   "outputs": [],
   "source": [
    "text='''Lorem ipsum dolor sit amet, consectetur adipiscing elit, sed do eiusmod tempor \n",
    "incididunt ut labore et dolore magna aliqua. Ut enim ad minim veniam, quis nostrud\n",
    "\n",
    "exercitation ullamco laboris nisi ut aliquip ex ea commodo consequat. Duis aute irure dolor \n",
    "in reprehenderit in voluptate velit esse cillum dolore eu fugiat nulla pariatur. Excepteur sint occaecat \n",
    "cupidatat non proident, sunt in culpa qui officia deserunt mollit anim id est laborum.'''"
   ]
  },
  {
   "cell_type": "code",
   "execution_count": 29,
   "id": "28423e1d-2e04-4f47-b73c-f409ea05d1c0",
   "metadata": {},
   "outputs": [
    {
     "data": {
      "text/plain": [
       "'Lorem ipsum dolor sit @met, consectetur @dipiscing elit, sed do eiusmod tempor incididunt ut l@bore et dolore m@gn@ @liqu@. Ut enim @d minim veni@m, quis nostrud exercit@tion ull@mco l@boris nisi ut @liquip ex e@ commodo consequ@t. Duis @ute irure dolor in reprehenderit in volupt@te velit esse cillum dolore eu fugi@t null@ p@ri@tur. Excepteur sint occ@ec@t cupid@t@t non proident, sunt in culp@ qui offici@ deserunt mollit @nim id est l@borum.'"
      ]
     },
     "execution_count": 29,
     "metadata": {},
     "output_type": "execute_result"
    }
   ],
   "source": [
    "text.replace(\"a\",'@')"
   ]
  },
  {
   "cell_type": "code",
   "execution_count": 30,
   "id": "2a722b8e-b556-47f4-bc2c-5d9f5db455a8",
   "metadata": {},
   "outputs": [
    {
     "data": {
      "text/plain": [
       "'Lorem ipsum dolor sit amet, consectetur adipiscing elit, sed do eiusmod tempor incididunt ut labore et dolore magna aliqua. Ut enim ad minim veniam, quis nostrud exercitation ullamco laboris nisi ut aliquip ex ea commodo consequat. Duis aute irure dolor in reprehenderit in voluptate velit esse cillum dolore eu fugiat nulla pariatur. Excepteur sint occaecat cupidatat non proident, sunt in culpa qui officia deserunt mollit anim id est laborum.'"
      ]
     },
     "execution_count": 30,
     "metadata": {},
     "output_type": "execute_result"
    }
   ],
   "source": [
    "text"
   ]
  },
  {
   "cell_type": "code",
   "execution_count": 38,
   "id": "ee1a82fb-1f6b-427a-a603-e9819c8a3ccc",
   "metadata": {},
   "outputs": [],
   "source": [
    "def first_func(fname='Ahmed',lname='Ali'):\n",
    "    print(fname,lname)"
   ]
  },
  {
   "cell_type": "code",
   "execution_count": 40,
   "id": "cd755c64-dafa-4ddd-97e6-4725ce758dbf",
   "metadata": {},
   "outputs": [
    {
     "name": "stdout",
     "output_type": "stream",
     "text": [
      "A B\n"
     ]
    }
   ],
   "source": [
    "first_func('A','B')\n",
    "# first_func()"
   ]
  },
  {
   "cell_type": "code",
   "execution_count": 58,
   "id": "6e944842-8116-4526-9c4e-4238236da7d5",
   "metadata": {},
   "outputs": [],
   "source": [
    "# inpt=9999\n",
    "# y=input(\"Enter second number\")\n",
    "def first_func(x,y):\n",
    "    # print(inpt)\n",
    "    inpt=50\n",
    "    if y>0:\n",
    "        x/y\n",
    "        \n",
    "    else:\n",
    "        print(\"ddd\")\n"
   ]
  },
  {
   "cell_type": "code",
   "execution_count": 59,
   "id": "a5e9fd6d-e48f-4bfe-8a87-b7c815848b58",
   "metadata": {},
   "outputs": [],
   "source": [
    "first_func(35,5)"
   ]
  },
  {
   "cell_type": "markdown",
   "id": "0076968e-448e-47e9-b6cc-e3eaa078024e",
   "metadata": {},
   "source": [
    "# Varadic arguments"
   ]
  },
  {
   "cell_type": "code",
   "execution_count": 84,
   "id": "d3498986-4b9f-45f0-9cd8-3bab600f94c4",
   "metadata": {},
   "outputs": [],
   "source": [
    "def func(*numbers):\n",
    "    default=0\n",
    "    for i in numbers:\n",
    "        default=default+i\n",
    "    print(default)\n",
    "        "
   ]
  },
  {
   "cell_type": "code",
   "execution_count": 85,
   "id": "8e8127e6-1c51-4369-b54b-4494b1621523",
   "metadata": {},
   "outputs": [
    {
     "name": "stdout",
     "output_type": "stream",
     "text": [
      "10\n"
     ]
    }
   ],
   "source": [
    "func(1,2,3,4)"
   ]
  },
  {
   "cell_type": "code",
   "execution_count": 63,
   "id": "c1f2a6dc-16c8-4d53-bb69-0896be05f53f",
   "metadata": {},
   "outputs": [],
   "source": [
    "a=l[0]\n",
    "b=l[1]"
   ]
  },
  {
   "cell_type": "markdown",
   "id": "1bfa63cf-e624-4e8d-94df-05de3185dba8",
   "metadata": {},
   "source": [
    "\n",
    "# KWArgs"
   ]
  },
  {
   "cell_type": "code",
   "execution_count": 95,
   "id": "5d061c70-db5b-4591-9416-1f2fec0ec382",
   "metadata": {},
   "outputs": [],
   "source": [
    "def func2(**name):\n",
    "    if 'k1' in name.keys():\n",
    "        print(name['k1'])"
   ]
  },
  {
   "cell_type": "code",
   "execution_count": 96,
   "id": "cacc6976-4e6c-4fb6-9ab3-8781c129e852",
   "metadata": {},
   "outputs": [
    {
     "name": "stdout",
     "output_type": "stream",
     "text": [
      "first\n"
     ]
    }
   ],
   "source": [
    "func2(k1='first',k2='second')"
   ]
  },
  {
   "cell_type": "code",
   "execution_count": 116,
   "id": "9886248b-6cb0-48a1-a48e-1edbf6bdf62f",
   "metadata": {},
   "outputs": [],
   "source": [
    "def func3(**ops):\n",
    "    if 'first' in ops.keys() and 'second' not in ops.keys():\n",
    "        print(ops['first'])\n",
    "    elif 'first' in ops.keys() and 'second' in ops.keys() and 'skip' not in ops.keys():\n",
    "        print(ops['first']+ops['second'])\n",
    "    elif 'first' in ops.keys() and 'second' in ops.keys() and 'skip' in ops.keys() and ops['skip']==True:\n",
    "        print('End')"
   ]
  },
  {
   "cell_type": "code",
   "execution_count": 109,
   "id": "76f11d87-e03a-43f6-9a51-8a5f84771837",
   "metadata": {},
   "outputs": [
    {
     "name": "stdout",
     "output_type": "stream",
     "text": [
      "15\n"
     ]
    }
   ],
   "source": [
    "func3(first=15)"
   ]
  },
  {
   "cell_type": "code",
   "execution_count": 110,
   "id": "ca4933b4-c929-4684-ace3-7631efc6dde1",
   "metadata": {},
   "outputs": [
    {
     "name": "stdout",
     "output_type": "stream",
     "text": [
      "35\n"
     ]
    }
   ],
   "source": [
    "func3(first=15,second=20)"
   ]
  },
  {
   "cell_type": "code",
   "execution_count": 115,
   "id": "22e8c6c4-cd54-4b54-ae47-d6d8565faa45",
   "metadata": {},
   "outputs": [
    {
     "name": "stdout",
     "output_type": "stream",
     "text": [
      "End\n"
     ]
    }
   ],
   "source": [
    "func3(first=15,second=20,skip=True)"
   ]
  },
  {
   "cell_type": "code",
   "execution_count": 122,
   "id": "280159b3-e1ef-46a7-8e14-dbc9f4441812",
   "metadata": {},
   "outputs": [],
   "source": [
    "def txt(**ops):\n",
    "    if 'upper' in ops.keys() and 'text' in ops.keys() and ops['upper']==True:\n",
    "        print(ops['text'].upper())\n",
    "    elif 'lower' in ops.keys() and 'text' in ops.keys() and ops['lower']==True:\n",
    "        print(ops['text'].lower())\n",
    "    elif 'swap' in ops.keys() and 'text' in ops.keys() and ops['swap']==True:\n",
    "        print(ops['text'].swapcase())"
   ]
  },
  {
   "cell_type": "code",
   "execution_count": 123,
   "id": "eb5b5987-1937-4da5-b382-91e42fa74197",
   "metadata": {},
   "outputs": [
    {
     "name": "stdout",
     "output_type": "stream",
     "text": [
      "HELLO\n"
     ]
    }
   ],
   "source": [
    "txt(upper=True,text='hello')"
   ]
  },
  {
   "cell_type": "code",
   "execution_count": 125,
   "id": "b4341d65-69bf-4f52-9497-4724cdfb04b3",
   "metadata": {},
   "outputs": [
    {
     "name": "stdout",
     "output_type": "stream",
     "text": [
      "hello\n"
     ]
    }
   ],
   "source": [
    "txt(lower=True,text='HELLO')"
   ]
  },
  {
   "cell_type": "code",
   "execution_count": 127,
   "id": "d6010548-6a51-46e5-8c02-c0c325a7a46d",
   "metadata": {},
   "outputs": [
    {
     "name": "stdout",
     "output_type": "stream",
     "text": [
      "HELLO\n"
     ]
    }
   ],
   "source": [
    "txt(swap=True,text='hello')"
   ]
  },
  {
   "cell_type": "code",
   "execution_count": 129,
   "id": "3a1c8470-7df7-413a-bec9-b4cb2042cc13",
   "metadata": {},
   "outputs": [
    {
     "data": {
      "text/plain": [
       "False"
      ]
     },
     "execution_count": 129,
     "metadata": {},
     "output_type": "execute_result"
    }
   ],
   "source": [
    "text.isupper()"
   ]
  },
  {
   "cell_type": "code",
   "execution_count": 131,
   "id": "03ffda2c-d989-4ca6-a540-4b58c59b8f3d",
   "metadata": {},
   "outputs": [
    {
     "data": {
      "text/plain": [
       "'Lorem ipsum dolor sit amet, consectetur adipiscing elit, sed do eiusmod tempor incididunt ut labore et dolore magna aliqua. Ut enim ad minim veniam, quis nostrud exercitation ullamco laboris nisi ut aliquip ex ea commodo consequat. Duis aute irure dolor in reprehenderit in voluptate velit esse cillum dolore eu fugiat nulla pariatur. Excepteur sint occaecat cupidatat non proident, sunt in culpa qui officia deserunt mollit anim id est laborum.'"
      ]
     },
     "execution_count": 131,
     "metadata": {},
     "output_type": "execute_result"
    }
   ],
   "source": []
  },
  {
   "cell_type": "markdown",
   "id": "ea00903f-50ec-4a7d-a868-f5c8b8a29fc6",
   "metadata": {},
   "source": [
    "# Lambda"
   ]
  },
  {
   "cell_type": "code",
   "execution_count": 178,
   "id": "1711b372-bb06-4c29-aeb4-a3734a05db79",
   "metadata": {},
   "outputs": [],
   "source": [
    "lambda_fun=lambda x:f(x)"
   ]
  },
  {
   "cell_type": "code",
   "execution_count": 180,
   "id": "d33ec120-abfb-41cc-ab1a-d3f404f390cf",
   "metadata": {},
   "outputs": [
    {
     "name": "stdout",
     "output_type": "stream",
     "text": [
      "ss\n"
     ]
    }
   ],
   "source": [
    "lambda_fun('ss')"
   ]
  },
  {
   "cell_type": "code",
   "execution_count": 177,
   "id": "f1f0bc6a-29f2-43e8-9b65-a68420c222f6",
   "metadata": {},
   "outputs": [],
   "source": [
    "def f(x):\n",
    "    print(x)"
   ]
  },
  {
   "cell_type": "code",
   "execution_count": null,
   "id": "ac88ed35-0783-4e9c-a2eb-cf5f7a69fc18",
   "metadata": {},
   "outputs": [],
   "source": []
  }
 ],
 "metadata": {
  "kernelspec": {
   "display_name": "Python 3 (ipykernel)",
   "language": "python",
   "name": "python3"
  },
  "language_info": {
   "codemirror_mode": {
    "name": "ipython",
    "version": 3
   },
   "file_extension": ".py",
   "mimetype": "text/x-python",
   "name": "python",
   "nbconvert_exporter": "python",
   "pygments_lexer": "ipython3",
   "version": "3.13.2"
  }
 },
 "nbformat": 4,
 "nbformat_minor": 5
}
