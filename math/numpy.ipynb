{
 "cells": [
  {
   "cell_type": "code",
   "execution_count": 1,
   "id": "b6e9961d-ee79-4da9-848f-23ecde3b646c",
   "metadata": {},
   "outputs": [],
   "source": [
    "import numpy as np"
   ]
  },
  {
   "cell_type": "code",
   "execution_count": 2,
   "id": "e6111c29-0492-477f-8097-cdea5f25a090",
   "metadata": {},
   "outputs": [],
   "source": [
    "m=list(range(1,25))"
   ]
  },
  {
   "cell_type": "code",
   "execution_count": 4,
   "id": "a099f81d-d726-4a1e-924e-e3cf314b1137",
   "metadata": {},
   "outputs": [],
   "source": [
    "ar=np.array(m)"
   ]
  },
  {
   "cell_type": "code",
   "execution_count": 6,
   "id": "f4301bf5-f493-4c12-8c0d-99afd7612d49",
   "metadata": {},
   "outputs": [
    {
     "name": "stdout",
     "output_type": "stream",
     "text": [
      "1\n",
      "(24,)\n"
     ]
    }
   ],
   "source": [
    "print(ar.ndim)\n",
    "print(ar.shape)"
   ]
  },
  {
   "cell_type": "code",
   "execution_count": 11,
   "id": "4c2382b0-cf08-4980-bb13-f16f0df62aff",
   "metadata": {},
   "outputs": [],
   "source": [
    "c=ar.reshape((6,4))"
   ]
  },
  {
   "cell_type": "code",
   "execution_count": 39,
   "id": "71946494-a111-41b8-8802-fcbf7e5aaf32",
   "metadata": {},
   "outputs": [],
   "source": [
    "a=np.ones((3,4),dtype=int)"
   ]
  },
  {
   "cell_type": "code",
   "execution_count": 40,
   "id": "04124f1e-6cc4-4ee9-b81b-db9236dceabc",
   "metadata": {},
   "outputs": [
    {
     "data": {
      "text/plain": [
       "dtype('int64')"
      ]
     },
     "execution_count": 40,
     "metadata": {},
     "output_type": "execute_result"
    }
   ],
   "source": [
    "a.dtype"
   ]
  },
  {
   "cell_type": "code",
   "execution_count": 27,
   "id": "224ca242-3b66-4fbb-a624-331c3c514cb4",
   "metadata": {},
   "outputs": [
    {
     "data": {
      "text/plain": [
       "array([[[ 1,  2,  3],\n",
       "        [ 4,  5,  6],\n",
       "        [ 7,  8,  9],\n",
       "        [10, 11, 12]],\n",
       "\n",
       "       [[13, 14, 15],\n",
       "        [16, 17, 18],\n",
       "        [19, 20, 21],\n",
       "        [22, 23, 24]]])"
      ]
     },
     "execution_count": 27,
     "metadata": {},
     "output_type": "execute_result"
    }
   ],
   "source": [
    "ar.reshape((2,4,3))"
   ]
  },
  {
   "cell_type": "code",
   "execution_count": 20,
   "id": "56b37210-639a-49b8-868b-9fd25185e48d",
   "metadata": {},
   "outputs": [],
   "source": [
    "m2=np.array(list(range(1,785)))"
   ]
  },
  {
   "cell_type": "code",
   "execution_count": 21,
   "id": "38f19340-ee94-45ce-b452-e88ef8c03417",
   "metadata": {},
   "outputs": [],
   "source": [
    "ar2=m2.reshape((28,-1))"
   ]
  },
  {
   "cell_type": "code",
   "execution_count": 23,
   "id": "f11e7545-da1c-4865-9c1e-a2d8b88b3d43",
   "metadata": {},
   "outputs": [
    {
     "data": {
      "text/plain": [
       "(28, 28)"
      ]
     },
     "execution_count": 23,
     "metadata": {},
     "output_type": "execute_result"
    }
   ],
   "source": [
    "ar2.shape"
   ]
  },
  {
   "cell_type": "code",
   "execution_count": 49,
   "id": "de8049e2-ee90-472d-ba94-c21d2a7c10ee",
   "metadata": {},
   "outputs": [],
   "source": [
    "#arange\n",
    "f=np.arange(9).reshape(3,3)"
   ]
  },
  {
   "cell_type": "code",
   "execution_count": 52,
   "id": "d2b69135-a796-4df5-879c-a8d216e6dd55",
   "metadata": {},
   "outputs": [
    {
     "data": {
      "text/plain": [
       "array([ 0.,  5., 10., 15., 20.])"
      ]
     },
     "execution_count": 52,
     "metadata": {},
     "output_type": "execute_result"
    }
   ],
   "source": [
    "np.linspace(0,20,5)"
   ]
  },
  {
   "cell_type": "code",
   "execution_count": 57,
   "id": "da037fbc-0cb4-4e46-b4d8-67f6ed2751e4",
   "metadata": {},
   "outputs": [
    {
     "data": {
      "text/plain": [
       "9"
      ]
     },
     "execution_count": 57,
     "metadata": {},
     "output_type": "execute_result"
    }
   ],
   "source": [
    "np.random.random((3,3)).size"
   ]
  },
  {
   "cell_type": "code",
   "execution_count": 58,
   "id": "0852d7e4-4510-4c87-af92-671999521477",
   "metadata": {},
   "outputs": [],
   "source": [
    "np.savez('dsfdsfds.npz',ones=ar)"
   ]
  },
  {
   "cell_type": "code",
   "execution_count": 61,
   "id": "511e1086-a834-4f91-af86-ec30b6601225",
   "metadata": {},
   "outputs": [
    {
     "data": {
      "text/plain": [
       "array([ 1,  2,  3,  4,  5,  6,  7,  8,  9, 10, 11, 12, 13, 14, 15, 16, 17,\n",
       "       18, 19, 20, 21, 22, 23, 24])"
      ]
     },
     "execution_count": 61,
     "metadata": {},
     "output_type": "execute_result"
    }
   ],
   "source": [
    "with np.load('dsfdsfds.npz') as f:\n",
    "    g=f['ones']\n",
    "g"
   ]
  },
  {
   "cell_type": "code",
   "execution_count": null,
   "id": "52604702-d82c-4e3f-b069-0eb0df9db2f0",
   "metadata": {},
   "outputs": [],
   "source": []
  }
 ],
 "metadata": {
  "kernelspec": {
   "display_name": "Python 3 (ipykernel)",
   "language": "python",
   "name": "python3"
  },
  "language_info": {
   "codemirror_mode": {
    "name": "ipython",
    "version": 3
   },
   "file_extension": ".py",
   "mimetype": "text/x-python",
   "name": "python",
   "nbconvert_exporter": "python",
   "pygments_lexer": "ipython3",
   "version": "3.13.2"
  }
 },
 "nbformat": 4,
 "nbformat_minor": 5
}
