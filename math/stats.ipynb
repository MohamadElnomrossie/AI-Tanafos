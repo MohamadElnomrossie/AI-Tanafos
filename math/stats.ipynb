{
 "cells": [
  {
   "cell_type": "code",
   "execution_count": 11,
   "id": "9ac0c6c7-eee7-4c07-b58d-805d535a2ef8",
   "metadata": {},
   "outputs": [],
   "source": [
    "import numpy as np\n",
    "import pandas as pd"
   ]
  },
  {
   "cell_type": "code",
   "execution_count": 1,
   "id": "f6c2998b-d527-4a0a-9ed1-65d2327b0390",
   "metadata": {},
   "outputs": [],
   "source": [
    "def variance(nums):\n",
    "    x_bar=sum(nums)/len(nums)\n",
    "    temp=0\n",
    "    for i in nums:\n",
    "        distance=(i-x_bar)**2\n",
    "        temp+=distance\n",
    "    return temp/len(nums)"
   ]
  },
  {
   "cell_type": "code",
   "execution_count": 3,
   "id": "c9e66436-f437-4248-b6c6-0fcd9558ccd1",
   "metadata": {},
   "outputs": [
    {
     "data": {
      "text/plain": [
       "50.0"
      ]
     },
     "execution_count": 3,
     "metadata": {},
     "output_type": "execute_result"
    }
   ],
   "source": [
    "l=[-5,0,5,15,10]\n",
    "variance(l)"
   ]
  },
  {
   "cell_type": "code",
   "execution_count": 9,
   "id": "9905f31b-a281-4058-baf9-20a32096d365",
   "metadata": {},
   "outputs": [
    {
     "data": {
      "text/plain": [
       "np.float64(5.0)"
      ]
     },
     "execution_count": 9,
     "metadata": {},
     "output_type": "execute_result"
    }
   ],
   "source": [
    "l=np.array(l)\n",
    "l.mean()"
   ]
  },
  {
   "cell_type": "code",
   "execution_count": 13,
   "id": "ac372ece-7266-4f7e-899e-cd23b153c005",
   "metadata": {},
   "outputs": [],
   "source": [
    "df=pd.read_csv('file.csv')"
   ]
  },
  {
   "cell_type": "code",
   "execution_count": null,
   "id": "e44468ac-6c9f-43fd-be3e-21fdc19fcb3e",
   "metadata": {},
   "outputs": [],
   "source": []
  }
 ],
 "metadata": {
  "kernelspec": {
   "display_name": "Python 3 (ipykernel)",
   "language": "python",
   "name": "python3"
  },
  "language_info": {
   "codemirror_mode": {
    "name": "ipython",
    "version": 3
   },
   "file_extension": ".py",
   "mimetype": "text/x-python",
   "name": "python",
   "nbconvert_exporter": "python",
   "pygments_lexer": "ipython3",
   "version": "3.13.2"
  }
 },
 "nbformat": 4,
 "nbformat_minor": 5
}
