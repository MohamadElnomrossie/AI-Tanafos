{
 "cells": [
  {
   "cell_type": "code",
   "execution_count": 10,
   "id": "68f6c9c1-b583-4015-9c28-8540971a842e",
   "metadata": {},
   "outputs": [
    {
     "name": "stdout",
     "output_type": "stream",
     "text": [
      "5\n"
     ]
    }
   ],
   "source": [
    "v1=[1,2,3,4,5]\n",
    "v2=[6,7,8,9,10]"
   ]
  },
  {
   "cell_type": "code",
   "execution_count": 16,
   "id": "2f202bfe-8e02-40d4-a5b1-89ec19b0b337",
   "metadata": {},
   "outputs": [],
   "source": [
    "def vector_addition(vec1,vec2):\n",
    "    if len(vec1)!=len(vec2):\n",
    "        print('Invalid length')\n",
    "        return\n",
    "    total=[]\n",
    "    for i in range(len(vec1)):\n",
    "        total.append(vec1[i]+vec2[i])\n",
    "    return total"
   ]
  },
  {
   "cell_type": "code",
   "execution_count": 17,
   "id": "3cfa5f77-5ef1-4738-98eb-21eb2865618c",
   "metadata": {},
   "outputs": [
    {
     "data": {
      "text/plain": [
       "[7, 9, 11, 13, 15]"
      ]
     },
     "execution_count": 17,
     "metadata": {},
     "output_type": "execute_result"
    }
   ],
   "source": [
    "vector_addition(v1,v2)"
   ]
  },
  {
   "cell_type": "code",
   "execution_count": 18,
   "id": "814c831c-f90d-4b23-879f-519ca2bfa5fb",
   "metadata": {},
   "outputs": [],
   "source": [
    "def vector_multiplication(vec1,vec2):\n",
    "    if len(vec1)!=len(vec2):\n",
    "        print('Invalid length')\n",
    "        return\n",
    "    total=[]\n",
    "    for i in range(len(vec1)):\n",
    "        total.append(vec1[i]*vec2[i])\n",
    "    return total"
   ]
  },
  {
   "cell_type": "code",
   "execution_count": 20,
   "id": "c0acd254-24f9-4bae-a50d-09216b914b3f",
   "metadata": {},
   "outputs": [
    {
     "data": {
      "text/plain": [
       "[6, 14, 24, 36, 50]"
      ]
     },
     "execution_count": 20,
     "metadata": {},
     "output_type": "execute_result"
    }
   ],
   "source": [
    "vector_multiplication(v1,v2)"
   ]
  },
  {
   "cell_type": "code",
   "execution_count": 23,
   "id": "2d63768f-be0e-4a9e-b33a-3a2bc44ba936",
   "metadata": {},
   "outputs": [],
   "source": [
    "def vec_dot_prod(vec1,vec2):\n",
    "    if len(vec1)!=len(vec2):\n",
    "        print('Invalid length')\n",
    "        return\n",
    "    res=0\n",
    "    for i in range(len(vec1)):\n",
    "        res+=vec1[i]*vec2[i]\n",
    "    return res"
   ]
  },
  {
   "cell_type": "code",
   "execution_count": 24,
   "id": "4910a638-c9c7-43b2-a59f-be4ec63d4312",
   "metadata": {},
   "outputs": [
    {
     "data": {
      "text/plain": [
       "26"
      ]
     },
     "execution_count": 24,
     "metadata": {},
     "output_type": "execute_result"
    }
   ],
   "source": [
    "vec1=[1,2,3]\n",
    "vec2=[3,4,5]\n",
    "vec_dot_prod(vec1,vec2)\n"
   ]
  },
  {
   "cell_type": "code",
   "execution_count": 25,
   "id": "721ac102-0c18-4cd9-bce3-76ff4166ec69",
   "metadata": {},
   "outputs": [],
   "source": [
    "def vector_scalar_multiplication(vec1,scalar):\n",
    "    if len(vec1)!=len(vec2):\n",
    "        print('Invalid length')\n",
    "        return\n",
    "    total=[]\n",
    "    for i in range(len(vec1)):\n",
    "        total.append(vec1[i]*scalar)\n",
    "    return total"
   ]
  },
  {
   "cell_type": "code",
   "execution_count": 26,
   "id": "5ff503de-2e67-4122-a285-06ac51d3e787",
   "metadata": {},
   "outputs": [],
   "source": [
    "# Matrix\n",
    "M=[\n",
    "    [1,2,3],\n",
    "    [4,5,6]\n",
    "]"
   ]
  },
  {
   "cell_type": "code",
   "execution_count": 32,
   "id": "9d8a18fe-e9de-4bc3-9d24-d95b38ee4652",
   "metadata": {},
   "outputs": [],
   "source": [
    "m1=[[8,3,2],[1,2,1]]\n",
    "m2=[[4,6,6],[4,2,6]]"
   ]
  },
  {
   "cell_type": "code",
   "execution_count": 48,
   "id": "536f45ca-c030-4f52-b4a5-f14e50c5f767",
   "metadata": {},
   "outputs": [],
   "source": [
    "def mat_addition(m1,m2):\n",
    "    res=[]\n",
    "    for i in range(len(m1)):#rows\n",
    "        res.append([])\n",
    "        for j in range(3):# columns\n",
    "            res[i].append(m1[i][j]+m2[i][j])\n",
    "    return res"
   ]
  },
  {
   "cell_type": "code",
   "execution_count": 49,
   "id": "a7fd9cb3-1415-4643-bcfb-c51fe0a2197c",
   "metadata": {},
   "outputs": [
    {
     "data": {
      "text/plain": [
       "[[12, 9, 8], [5, 4, 7]]"
      ]
     },
     "execution_count": 49,
     "metadata": {},
     "output_type": "execute_result"
    }
   ],
   "source": [
    "mat_addition(m1,m2)"
   ]
  },
  {
   "cell_type": "code",
   "execution_count": 34,
   "id": "dbabe44c-78c1-4147-bb79-0aa5370f22c7",
   "metadata": {},
   "outputs": [
    {
     "data": {
      "text/plain": [
       "3"
      ]
     },
     "execution_count": 34,
     "metadata": {},
     "output_type": "execute_result"
    }
   ],
   "source": [
    "m1[0][1]"
   ]
  },
  {
   "cell_type": "code",
   "execution_count": null,
   "id": "78824d75-c556-47bf-b3bc-fce1f6e443de",
   "metadata": {},
   "outputs": [],
   "source": []
  }
 ],
 "metadata": {
  "kernelspec": {
   "display_name": "Python 3 (ipykernel)",
   "language": "python",
   "name": "python3"
  },
  "language_info": {
   "codemirror_mode": {
    "name": "ipython",
    "version": 3
   },
   "file_extension": ".py",
   "mimetype": "text/x-python",
   "name": "python",
   "nbconvert_exporter": "python",
   "pygments_lexer": "ipython3",
   "version": "3.13.2"
  }
 },
 "nbformat": 4,
 "nbformat_minor": 5
}
